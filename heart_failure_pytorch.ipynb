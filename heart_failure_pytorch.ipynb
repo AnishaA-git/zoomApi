{
  "nbformat": 4,
  "nbformat_minor": 0,
  "metadata": {
    "colab": {
      "name": "heart_failure_pytorch.ipynb",
      "provenance": [],
      "authorship_tag": "ABX9TyMWVmo93WQK1bt14giG2BTL",
      "include_colab_link": true
    },
    "kernelspec": {
      "name": "python3",
      "display_name": "Python 3"
    },
    "language_info": {
      "name": "python"
    }
  },
  "cells": [
    {
      "cell_type": "markdown",
      "metadata": {
        "id": "view-in-github",
        "colab_type": "text"
      },
      "source": [
        "<a href=\"https://colab.research.google.com/github/AnishaA-git/zoomApi/blob/master/heart_failure_pytorch.ipynb\" target=\"_parent\"><img src=\"https://colab.research.google.com/assets/colab-badge.svg\" alt=\"Open In Colab\"/></a>"
      ]
    },
    {
      "cell_type": "code",
      "metadata": {
        "colab": {
          "base_uri": "https://localhost:8080/"
        },
        "id": "OMRY6cDiE8qs",
        "outputId": "74a73385-73b2-462e-cae8-8f8270669de0"
      },
      "source": [
        "!pip install kmeans-pytorch\n"
      ],
      "execution_count": 9,
      "outputs": [
        {
          "output_type": "stream",
          "text": [
            "Collecting kmeans-pytorch\n",
            "  Downloading kmeans_pytorch-0.3-py3-none-any.whl (4.4 kB)\n",
            "Installing collected packages: kmeans-pytorch\n",
            "Successfully installed kmeans-pytorch-0.3\n"
          ],
          "name": "stdout"
        }
      ]
    },
    {
      "cell_type": "code",
      "metadata": {
        "id": "LSj4WMtbFAV1"
      },
      "source": [
        "\n",
        "import torch\n",
        "import numpy as np\n",
        "import pandas as pd\n",
        "import matplotlib.pyplot as plt\n",
        "from itertools import cycle, islice\n",
        "from pandas.plotting import parallel_coordinates\n",
        "from kmeans_pytorch import kmeans, kmeans_predict\n",
        "\n",
        "%matplotlib inline"
      ],
      "execution_count": 37,
      "outputs": []
    },
    {
      "cell_type": "code",
      "metadata": {
        "colab": {
          "base_uri": "https://localhost:8080/"
        },
        "id": "MsOMaDVmFP6S",
        "outputId": "d39f8b20-71d7-49b4-a7ad-6494539ffce3"
      },
      "source": [
        "df = pd.read_csv(\"heart_failure_clinical_records_dataset.csv\")\n",
        "df.shape\n"
      ],
      "execution_count": 28,
      "outputs": [
        {
          "output_type": "execute_result",
          "data": {
            "text/plain": [
              "(299, 13)"
            ]
          },
          "metadata": {},
          "execution_count": 28
        }
      ]
    },
    {
      "cell_type": "code",
      "metadata": {
        "id": "huHFZ8p5HjJg"
      },
      "source": [
        "# data\n",
        "data_size, dims, num_clusters = 299, 13, 4\n",
        "x = np.random.randn(data_size, dims) / 6\n",
        "x = torch.from_numpy(x)"
      ],
      "execution_count": 48,
      "outputs": []
    },
    {
      "cell_type": "code",
      "metadata": {
        "id": "4xt9PjpDIcCt"
      },
      "source": [
        "# set device\n",
        "if torch.cuda.is_available():\n",
        "    device = torch.device('cuda:0')\n",
        "else:\n",
        "    device = torch.device('cpu')"
      ],
      "execution_count": 49,
      "outputs": []
    },
    {
      "cell_type": "code",
      "metadata": {
        "colab": {
          "base_uri": "https://localhost:8080/"
        },
        "id": "CPSdNselHsKT",
        "outputId": "63ec7215-9009-43e4-e526-ff91c7edbae8"
      },
      "source": [
        "# kmeans\n",
        "cluster_ids_x, cluster_centers = kmeans(\n",
        "    X=x, num_clusters=num_clusters, distance='euclidean', device=device\n",
        ")"
      ],
      "execution_count": 52,
      "outputs": [
        {
          "output_type": "stream",
          "text": [
            "running k-means on cpu..\n"
          ],
          "name": "stdout"
        },
        {
          "output_type": "stream",
          "text": [
            "\n",
            "\n",
            "\n",
            "[running kmeans]: 0it [00:00, ?it/s]\u001b[A\u001b[A\u001b[A\n",
            "\n",
            "\n",
            "[running kmeans]: 0it [00:00, ?it/s, center_shift=3.378631, iteration=1, tol=0.000100]\u001b[A\u001b[A\u001b[A\n",
            "\n",
            "\n",
            "[running kmeans]: 1it [00:00, 94.34it/s, center_shift=0.057960, iteration=2, tol=0.000100]\u001b[A\u001b[A\u001b[A\n",
            "\n",
            "\n",
            "[running kmeans]: 2it [00:00, 112.80it/s, center_shift=0.025499, iteration=3, tol=0.000100]\u001b[A\u001b[A\u001b[A\n",
            "\n",
            "\n",
            "[running kmeans]: 3it [00:00, 122.24it/s, center_shift=0.009922, iteration=4, tol=0.000100]\u001b[A\u001b[A\u001b[A\n",
            "\n",
            "\n",
            "[running kmeans]: 4it [00:00, 126.34it/s, center_shift=0.009102, iteration=5, tol=0.000100]\u001b[A\u001b[A\u001b[A\n",
            "\n",
            "\n",
            "[running kmeans]: 5it [00:00, 129.29it/s, center_shift=0.018791, iteration=6, tol=0.000100]\u001b[A\u001b[A\u001b[A\n",
            "\n",
            "\n",
            "[running kmeans]: 6it [00:00, 131.35it/s, center_shift=0.008402, iteration=7, tol=0.000100]\u001b[A\u001b[A\u001b[A\n",
            "\n",
            "\n",
            "[running kmeans]: 7it [00:00, 135.49it/s, center_shift=0.005218, iteration=8, tol=0.000100]\u001b[A\u001b[A\u001b[A\n",
            "\n",
            "\n",
            "[running kmeans]: 8it [00:00, 138.45it/s, center_shift=0.002109, iteration=9, tol=0.000100]\u001b[A\u001b[A\u001b[A\n",
            "\n",
            "\n",
            "[running kmeans]: 9it [00:00, 140.74it/s, center_shift=0.003437, iteration=10, tol=0.000100]\u001b[A\u001b[A\u001b[A\n",
            "\n",
            "\n",
            "[running kmeans]: 10it [00:00, 142.99it/s, center_shift=0.007992, iteration=11, tol=0.000100]\u001b[A\u001b[A\u001b[A\n",
            "\n",
            "\n",
            "[running kmeans]: 11it [00:00, 144.90it/s, center_shift=0.001962, iteration=12, tol=0.000100]\u001b[A\u001b[A\u001b[A\n",
            "\n",
            "\n",
            "[running kmeans]: 12it [00:00, 146.25it/s, center_shift=0.001019, iteration=13, tol=0.000100]\u001b[A\u001b[A\u001b[A\n",
            "\n",
            "\n",
            "[running kmeans]: 13it [00:00, 146.42it/s, center_shift=0.002044, iteration=14, tol=0.000100]\u001b[A\u001b[A\u001b[A\n",
            "\n",
            "\n",
            "[running kmeans]: 14it [00:00, 146.92it/s, center_shift=0.004496, iteration=15, tol=0.000100]\u001b[A\u001b[A\u001b[A\n",
            "\n",
            "\n",
            "[running kmeans]: 15it [00:00, 138.47it/s, center_shift=0.001677, iteration=16, tol=0.000100]\u001b[A\u001b[A\u001b[A\n",
            "\n",
            "\n",
            "[running kmeans]: 16it [00:07,  2.20it/s, center_shift=0.000000, iteration=16, tol=0.000100]\n",
            "[running kmeans]: 16it [00:00, 142.90it/s, center_shift=0.001677, iteration=16, tol=0.000100]\u001b[A\u001b[A\u001b[A\n",
            "\n",
            "\n",
            "[running kmeans]: 16it [00:00, 142.90it/s, center_shift=0.001064, iteration=17, tol=0.000100]\u001b[A\u001b[A\u001b[A\n",
            "\n",
            "\n",
            "[running kmeans]: 17it [00:00, 142.90it/s, center_shift=0.001887, iteration=18, tol=0.000100]\u001b[A\u001b[A\u001b[A\n",
            "\n",
            "\n",
            "[running kmeans]: 18it [00:00, 142.90it/s, center_shift=0.001649, iteration=19, tol=0.000100]\u001b[A\u001b[A\u001b[A\n",
            "\n",
            "\n",
            "[running kmeans]: 19it [00:00, 142.90it/s, center_shift=0.000316, iteration=20, tol=0.000100]\u001b[A\u001b[A\u001b[A\n",
            "\n",
            "\n",
            "[running kmeans]: 20it [00:00, 142.90it/s, center_shift=0.000270, iteration=21, tol=0.000100]\u001b[A\u001b[A\u001b[A\n",
            "\n",
            "\n",
            "[running kmeans]: 21it [00:00, 142.90it/s, center_shift=0.000097, iteration=22, tol=0.000100]\u001b[A\u001b[A\u001b[A"
          ],
          "name": "stderr"
        }
      ]
    },
    {
      "cell_type": "code",
      "metadata": {
        "colab": {
          "base_uri": "https://localhost:8080/"
        },
        "id": "jTp-HCddImo0",
        "outputId": "247ec5d6-36b5-4059-8893-578f4710bc78"
      },
      "source": [
        "# cluster IDs and cluster centers\n",
        "print(cluster_ids_x)\n",
        "print(cluster_centers)"
      ],
      "execution_count": 53,
      "outputs": [
        {
          "output_type": "stream",
          "text": [
            "tensor([2, 3, 1, 1, 1, 0, 3, 3, 2, 0, 2, 2, 1, 0, 2, 2, 1, 1, 0, 1, 2, 2, 2, 1,\n",
            "        1, 2, 2, 1, 1, 1, 2, 1, 3, 2, 3, 0, 1, 2, 2, 2, 0, 3, 3, 3, 2, 2, 2, 0,\n",
            "        1, 1, 2, 3, 3, 3, 1, 3, 0, 1, 3, 1, 2, 0, 3, 3, 0, 2, 1, 1, 2, 2, 0, 0,\n",
            "        1, 3, 0, 3, 1, 1, 0, 0, 2, 0, 0, 0, 1, 0, 2, 3, 0, 3, 3, 1, 1, 2, 0, 0,\n",
            "        2, 3, 3, 2, 1, 1, 0, 2, 1, 1, 0, 3, 1, 0, 2, 3, 0, 3, 1, 2, 1, 0, 1, 1,\n",
            "        3, 2, 1, 0, 3, 2, 1, 2, 3, 3, 2, 2, 3, 1, 1, 0, 2, 1, 3, 1, 0, 3, 0, 2,\n",
            "        1, 3, 3, 0, 2, 3, 2, 0, 2, 0, 3, 0, 2, 1, 0, 2, 2, 2, 3, 2, 2, 1, 1, 0,\n",
            "        2, 0, 1, 2, 3, 1, 0, 2, 0, 0, 0, 2, 0, 0, 3, 1, 1, 1, 1, 2, 0, 1, 1, 2,\n",
            "        0, 1, 1, 0, 0, 1, 0, 1, 2, 1, 0, 2, 0, 0, 2, 1, 2, 1, 2, 1, 3, 0, 0, 2,\n",
            "        0, 3, 2, 2, 0, 3, 3, 0, 2, 2, 3, 1, 2, 3, 2, 2, 3, 2, 2, 0, 0, 1, 3, 2,\n",
            "        2, 2, 2, 3, 1, 3, 1, 2, 0, 2, 3, 2, 2, 3, 3, 1, 3, 3, 0, 3, 0, 0, 1, 0,\n",
            "        1, 2, 1, 3, 0, 0, 0, 3, 2, 2, 0, 2, 2, 2, 3, 0, 1, 3, 3, 1, 3, 1, 0, 0,\n",
            "        1, 0, 0, 3, 0, 1, 0, 0, 2, 1, 1])\n",
            "tensor([[ 0.0048, -0.0557, -0.0455, -0.0067,  0.1877,  0.0338, -0.0401,  0.0435,\n",
            "         -0.0540,  0.0141,  0.0357, -0.0051, -0.0254],\n",
            "        [-0.0412,  0.0076, -0.0625,  0.0863, -0.0276, -0.1439, -0.0850, -0.0650,\n",
            "          0.0350,  0.0565, -0.1087,  0.0427,  0.0241],\n",
            "        [ 0.0411,  0.1165,  0.1189, -0.0411, -0.0707,  0.0902, -0.0349, -0.0152,\n",
            "          0.0363,  0.0042, -0.0506,  0.0329,  0.0005],\n",
            "        [-0.0621, -0.1219,  0.0159,  0.0078, -0.0508, -0.0241,  0.1365, -0.0304,\n",
            "          0.0285, -0.0252,  0.0870, -0.1598, -0.0115]])\n"
          ],
          "name": "stdout"
        }
      ]
    },
    {
      "cell_type": "code",
      "metadata": {
        "id": "9jVmG_JFIryj"
      },
      "source": [
        "# Function that creates a DataFrame with a column for Cluster Number\n",
        "\n",
        "def pd_centers(df, cluster_centers):\n",
        "\tcolNames = list(df)\n",
        "\tcolNames.append('prediction')\n",
        "\n",
        "\t# Zip with a column called 'prediction' (index)\n",
        "\tZ = [np.append(A, index) for index, A in enumerate(cluster_centers)]\n",
        "\n",
        "\t# Convert to pandas data frame for plotting\n",
        "\tP = pd.DataFrame(Z, columns=colNames)\n",
        "\tP['prediction'] = P['prediction'].astype(int)\n",
        "\treturn P"
      ],
      "execution_count": 54,
      "outputs": []
    },
    {
      "cell_type": "code",
      "metadata": {
        "id": "WCj7ZSgqI2Bq"
      },
      "source": [
        "# Function that creates Parallel Plots\n",
        "\n",
        "def parallel_plot(df):\n",
        "\tmy_colors = list(islice(cycle(['b', 'r', 'g', 'y', 'k']), None, len(df)))\n",
        "\tplt.figure(figsize=(15,8)).gca().axes.set_ylim([-3,+3])\n",
        "\tparallel_coordinates(df, 'prediction', color = my_colors, marker='o')"
      ],
      "execution_count": 55,
      "outputs": []
    },
    {
      "cell_type": "code",
      "metadata": {
        "colab": {
          "base_uri": "https://localhost:8080/",
          "height": 192
        },
        "id": "wkHlNyZVI4fd",
        "outputId": "9aab1469-466a-4a27-b6b7-b0723013713e"
      },
      "source": [
        "P = pd_centers(df, cluster_centers)\n",
        "P"
      ],
      "execution_count": 56,
      "outputs": [
        {
          "output_type": "execute_result",
          "data": {
            "text/html": [
              "<div>\n",
              "<style scoped>\n",
              "    .dataframe tbody tr th:only-of-type {\n",
              "        vertical-align: middle;\n",
              "    }\n",
              "\n",
              "    .dataframe tbody tr th {\n",
              "        vertical-align: top;\n",
              "    }\n",
              "\n",
              "    .dataframe thead th {\n",
              "        text-align: right;\n",
              "    }\n",
              "</style>\n",
              "<table border=\"1\" class=\"dataframe\">\n",
              "  <thead>\n",
              "    <tr style=\"text-align: right;\">\n",
              "      <th></th>\n",
              "      <th>age</th>\n",
              "      <th>anaemia</th>\n",
              "      <th>creatinine_phosphokinase</th>\n",
              "      <th>diabetes</th>\n",
              "      <th>ejection_fraction</th>\n",
              "      <th>high_blood_pressure</th>\n",
              "      <th>platelets</th>\n",
              "      <th>serum_creatinine</th>\n",
              "      <th>serum_sodium</th>\n",
              "      <th>sex</th>\n",
              "      <th>smoking</th>\n",
              "      <th>time</th>\n",
              "      <th>DEATH_EVENT</th>\n",
              "      <th>prediction</th>\n",
              "    </tr>\n",
              "  </thead>\n",
              "  <tbody>\n",
              "    <tr>\n",
              "      <th>0</th>\n",
              "      <td>0.004781</td>\n",
              "      <td>-0.055699</td>\n",
              "      <td>-0.045496</td>\n",
              "      <td>-0.006719</td>\n",
              "      <td>0.187743</td>\n",
              "      <td>0.033810</td>\n",
              "      <td>-0.040058</td>\n",
              "      <td>0.043504</td>\n",
              "      <td>-0.054008</td>\n",
              "      <td>0.014149</td>\n",
              "      <td>0.035713</td>\n",
              "      <td>-0.005127</td>\n",
              "      <td>-0.025372</td>\n",
              "      <td>0</td>\n",
              "    </tr>\n",
              "    <tr>\n",
              "      <th>1</th>\n",
              "      <td>-0.041160</td>\n",
              "      <td>0.007613</td>\n",
              "      <td>-0.062459</td>\n",
              "      <td>0.086327</td>\n",
              "      <td>-0.027596</td>\n",
              "      <td>-0.143948</td>\n",
              "      <td>-0.085025</td>\n",
              "      <td>-0.065016</td>\n",
              "      <td>0.035038</td>\n",
              "      <td>0.056495</td>\n",
              "      <td>-0.108729</td>\n",
              "      <td>0.042655</td>\n",
              "      <td>0.024112</td>\n",
              "      <td>1</td>\n",
              "    </tr>\n",
              "    <tr>\n",
              "      <th>2</th>\n",
              "      <td>0.041103</td>\n",
              "      <td>0.116531</td>\n",
              "      <td>0.118911</td>\n",
              "      <td>-0.041107</td>\n",
              "      <td>-0.070717</td>\n",
              "      <td>0.090214</td>\n",
              "      <td>-0.034860</td>\n",
              "      <td>-0.015165</td>\n",
              "      <td>0.036291</td>\n",
              "      <td>0.004165</td>\n",
              "      <td>-0.050631</td>\n",
              "      <td>0.032917</td>\n",
              "      <td>0.000521</td>\n",
              "      <td>2</td>\n",
              "    </tr>\n",
              "    <tr>\n",
              "      <th>3</th>\n",
              "      <td>-0.062112</td>\n",
              "      <td>-0.121873</td>\n",
              "      <td>0.015904</td>\n",
              "      <td>0.007802</td>\n",
              "      <td>-0.050790</td>\n",
              "      <td>-0.024055</td>\n",
              "      <td>0.136470</td>\n",
              "      <td>-0.030355</td>\n",
              "      <td>0.028502</td>\n",
              "      <td>-0.025186</td>\n",
              "      <td>0.086969</td>\n",
              "      <td>-0.159797</td>\n",
              "      <td>-0.011455</td>\n",
              "      <td>3</td>\n",
              "    </tr>\n",
              "  </tbody>\n",
              "</table>\n",
              "</div>"
            ],
            "text/plain": [
              "        age   anaemia  ...  DEATH_EVENT  prediction\n",
              "0  0.004781 -0.055699  ...    -0.025372           0\n",
              "1 -0.041160  0.007613  ...     0.024112           1\n",
              "2  0.041103  0.116531  ...     0.000521           2\n",
              "3 -0.062112 -0.121873  ...    -0.011455           3\n",
              "\n",
              "[4 rows x 14 columns]"
            ]
          },
          "metadata": {},
          "execution_count": 56
        }
      ]
    },
    {
      "cell_type": "markdown",
      "metadata": {
        "id": "T3yNxAVcUBio"
      },
      "source": [
        "Heart Failure Event"
      ]
    },
    {
      "cell_type": "code",
      "metadata": {
        "colab": {
          "base_uri": "https://localhost:8080/",
          "height": 488
        },
        "id": "vfElstlyJJZW",
        "outputId": "75c8d920-44fc-452a-dc37-21afc0d8ce6a"
      },
      "source": [
        "parallel_plot(P[P['DEATH_EVENT'] > 0 ])\n"
      ],
      "execution_count": 58,
      "outputs": [
        {
          "output_type": "display_data",
          "data": {
            "image/png": "[encoded data removed]",
            "text/plain": [
              "<Figure size 1080x576 with 1 Axes>"
            ]
          },
          "metadata": {
            "needs_background": "light"
          }
        }
      ]
    },
    {
      "cell_type": "markdown",
      "metadata": {
        "id": "8dS2RDVzULwF"
      },
      "source": [
        "No Heart Failure Event"
      ]
    },
    {
      "cell_type": "code",
      "metadata": {
        "colab": {
          "base_uri": "https://localhost:8080/",
          "height": 488
        },
        "id": "5G4GnfO8UPqc",
        "outputId": "ec702890-e498-4310-8e4c-377a4e29fdc4"
      },
      "source": [
        "parallel_plot(P[P['DEATH_EVENT'] < 0 ])\n"
      ],
      "execution_count": 59,
      "outputs": [
        {
          "output_type": "display_data",
          "data": {
            "image/png": "[encoded data removed]",
            "text/plain": [
              "<Figure size 1080x576 with 1 Axes>"
            ]
          },
          "metadata": {
            "needs_background": "light"
          }
        }
      ]
    }
  ]
}