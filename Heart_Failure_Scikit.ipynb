{
  "nbformat": 4,
  "nbformat_minor": 0,
  "metadata": {
    "colab": {
      "name": "Heart_Failure_Scikit.ipynb",
      "provenance": [],
      "collapsed_sections": [],
      "toc_visible": true,
      "authorship_tag": "ABX9TyNJxTiU/Kkefi30LTV5B1Yg",
      "include_colab_link": true
    },
    "kernelspec": {
      "name": "python3",
      "display_name": "Python 3"
    },
    "language_info": {
      "name": "python"
    }
  },
  "cells": [
    {
      "cell_type": "markdown",
      "metadata": {
        "id": "view-in-github",
        "colab_type": "text"
      },
      "source": [
        "<a href=\"https://colab.research.google.com/github/AnishaA-git/zoomApi/blob/master/Heart_Failure_Scikit.ipynb\" target=\"_parent\"><img src=\"https://colab.research.google.com/assets/colab-badge.svg\" alt=\"Open In Colab\"/></a>"
      ]
    },
    {
      "cell_type": "markdown",
      "metadata": {
        "id": "JeQTwYHwDLUA"
      },
      "source": [
        "## **Clustering Graphs for Heart Disease** "
      ]
    },
    {
      "cell_type": "code",
      "metadata": {
        "id": "INTL-q_oDMXA"
      },
      "source": [
        "import numpy as np\n",
        "import pandas as pd\n",
        "import seaborn as sns\n",
        "from sklearn.cluster import KMeans\n",
        "from matplotlib import pyplot as plt\n",
        "import tensorflow as tf\n",
        "from past.builtins import xrange\n",
        "\n",
        "%matplotlib inline"
      ],
      "execution_count": 235,
      "outputs": []
    },
    {
      "cell_type": "markdown",
      "metadata": {
        "id": "zvFJybQ8D3Ku"
      },
      "source": [
        "## Creating a Pandas DataFrame from a CSV file"
      ]
    },
    {
      "cell_type": "code",
      "metadata": {
        "colab": {
          "base_uri": "https://localhost:8080/",
          "height": 417
        },
        "id": "zoCvo9SLOxmT",
        "outputId": "8c0baa74-d898-464b-bdc3-e1950f5ee2b1"
      },
      "source": [
        "df = pd.read_csv(\"heart.csv\")\n",
        "df"
      ],
      "execution_count": 236,
      "outputs": [
        {
          "output_type": "execute_result",
          "data": {
            "text/html": [
              "<div>\n",
              "<style scoped>\n",
              "    .dataframe tbody tr th:only-of-type {\n",
              "        vertical-align: middle;\n",
              "    }\n",
              "\n",
              "    .dataframe tbody tr th {\n",
              "        vertical-align: top;\n",
              "    }\n",
              "\n",
              "    .dataframe thead th {\n",
              "        text-align: right;\n",
              "    }\n",
              "</style>\n",
              "<table border=\"1\" class=\"dataframe\">\n",
              "  <thead>\n",
              "    <tr style=\"text-align: right;\">\n",
              "      <th></th>\n",
              "      <th>age</th>\n",
              "      <th>sex</th>\n",
              "      <th>cp</th>\n",
              "      <th>trestbps</th>\n",
              "      <th>chol</th>\n",
              "      <th>fbs</th>\n",
              "      <th>restecg</th>\n",
              "      <th>thalach</th>\n",
              "      <th>exang</th>\n",
              "      <th>oldpeak</th>\n",
              "      <th>slope</th>\n",
              "      <th>ca</th>\n",
              "      <th>thal</th>\n",
              "      <th>target</th>\n",
              "    </tr>\n",
              "  </thead>\n",
              "  <tbody>\n",
              "    <tr>\n",
              "      <th>0</th>\n",
              "      <td>63</td>\n",
              "      <td>1</td>\n",
              "      <td>3</td>\n",
              "      <td>145</td>\n",
              "      <td>233</td>\n",
              "      <td>1</td>\n",
              "      <td>0</td>\n",
              "      <td>150</td>\n",
              "      <td>0</td>\n",
              "      <td>2.3</td>\n",
              "      <td>0</td>\n",
              "      <td>0</td>\n",
              "      <td>1</td>\n",
              "      <td>1</td>\n",
              "    </tr>\n",
              "    <tr>\n",
              "      <th>1</th>\n",
              "      <td>37</td>\n",
              "      <td>1</td>\n",
              "      <td>2</td>\n",
              "      <td>130</td>\n",
              "      <td>250</td>\n",
              "      <td>0</td>\n",
              "      <td>1</td>\n",
              "      <td>187</td>\n",
              "      <td>0</td>\n",
              "      <td>3.5</td>\n",
              "      <td>0</td>\n",
              "      <td>0</td>\n",
              "      <td>2</td>\n",
              "      <td>1</td>\n",
              "    </tr>\n",
              "    <tr>\n",
              "      <th>2</th>\n",
              "      <td>41</td>\n",
              "      <td>0</td>\n",
              "      <td>1</td>\n",
              "      <td>130</td>\n",
              "      <td>204</td>\n",
              "      <td>0</td>\n",
              "      <td>0</td>\n",
              "      <td>172</td>\n",
              "      <td>0</td>\n",
              "      <td>1.4</td>\n",
              "      <td>2</td>\n",
              "      <td>0</td>\n",
              "      <td>2</td>\n",
              "      <td>1</td>\n",
              "    </tr>\n",
              "    <tr>\n",
              "      <th>3</th>\n",
              "      <td>56</td>\n",
              "      <td>1</td>\n",
              "      <td>1</td>\n",
              "      <td>120</td>\n",
              "      <td>236</td>\n",
              "      <td>0</td>\n",
              "      <td>1</td>\n",
              "      <td>178</td>\n",
              "      <td>0</td>\n",
              "      <td>0.8</td>\n",
              "      <td>2</td>\n",
              "      <td>0</td>\n",
              "      <td>2</td>\n",
              "      <td>1</td>\n",
              "    </tr>\n",
              "    <tr>\n",
              "      <th>4</th>\n",
              "      <td>57</td>\n",
              "      <td>0</td>\n",
              "      <td>0</td>\n",
              "      <td>120</td>\n",
              "      <td>354</td>\n",
              "      <td>0</td>\n",
              "      <td>1</td>\n",
              "      <td>163</td>\n",
              "      <td>1</td>\n",
              "      <td>0.6</td>\n",
              "      <td>2</td>\n",
              "      <td>0</td>\n",
              "      <td>2</td>\n",
              "      <td>1</td>\n",
              "    </tr>\n",
              "    <tr>\n",
              "      <th>...</th>\n",
              "      <td>...</td>\n",
              "      <td>...</td>\n",
              "      <td>...</td>\n",
              "      <td>...</td>\n",
              "      <td>...</td>\n",
              "      <td>...</td>\n",
              "      <td>...</td>\n",
              "      <td>...</td>\n",
              "      <td>...</td>\n",
              "      <td>...</td>\n",
              "      <td>...</td>\n",
              "      <td>...</td>\n",
              "      <td>...</td>\n",
              "      <td>...</td>\n",
              "    </tr>\n",
              "    <tr>\n",
              "      <th>298</th>\n",
              "      <td>57</td>\n",
              "      <td>0</td>\n",
              "      <td>0</td>\n",
              "      <td>140</td>\n",
              "      <td>241</td>\n",
              "      <td>0</td>\n",
              "      <td>1</td>\n",
              "      <td>123</td>\n",
              "      <td>1</td>\n",
              "      <td>0.2</td>\n",
              "      <td>1</td>\n",
              "      <td>0</td>\n",
              "      <td>3</td>\n",
              "      <td>0</td>\n",
              "    </tr>\n",
              "    <tr>\n",
              "      <th>299</th>\n",
              "      <td>45</td>\n",
              "      <td>1</td>\n",
              "      <td>3</td>\n",
              "      <td>110</td>\n",
              "      <td>264</td>\n",
              "      <td>0</td>\n",
              "      <td>1</td>\n",
              "      <td>132</td>\n",
              "      <td>0</td>\n",
              "      <td>1.2</td>\n",
              "      <td>1</td>\n",
              "      <td>0</td>\n",
              "      <td>3</td>\n",
              "      <td>0</td>\n",
              "    </tr>\n",
              "    <tr>\n",
              "      <th>300</th>\n",
              "      <td>68</td>\n",
              "      <td>1</td>\n",
              "      <td>0</td>\n",
              "      <td>144</td>\n",
              "      <td>193</td>\n",
              "      <td>1</td>\n",
              "      <td>1</td>\n",
              "      <td>141</td>\n",
              "      <td>0</td>\n",
              "      <td>3.4</td>\n",
              "      <td>1</td>\n",
              "      <td>2</td>\n",
              "      <td>3</td>\n",
              "      <td>0</td>\n",
              "    </tr>\n",
              "    <tr>\n",
              "      <th>301</th>\n",
              "      <td>57</td>\n",
              "      <td>1</td>\n",
              "      <td>0</td>\n",
              "      <td>130</td>\n",
              "      <td>131</td>\n",
              "      <td>0</td>\n",
              "      <td>1</td>\n",
              "      <td>115</td>\n",
              "      <td>1</td>\n",
              "      <td>1.2</td>\n",
              "      <td>1</td>\n",
              "      <td>1</td>\n",
              "      <td>3</td>\n",
              "      <td>0</td>\n",
              "    </tr>\n",
              "    <tr>\n",
              "      <th>302</th>\n",
              "      <td>57</td>\n",
              "      <td>0</td>\n",
              "      <td>1</td>\n",
              "      <td>130</td>\n",
              "      <td>236</td>\n",
              "      <td>0</td>\n",
              "      <td>0</td>\n",
              "      <td>174</td>\n",
              "      <td>0</td>\n",
              "      <td>0.0</td>\n",
              "      <td>1</td>\n",
              "      <td>1</td>\n",
              "      <td>2</td>\n",
              "      <td>0</td>\n",
              "    </tr>\n",
              "  </tbody>\n",
              "</table>\n",
              "<p>303 rows × 14 columns</p>\n",
              "</div>"
            ],
            "text/plain": [
              "     age  sex  cp  trestbps  chol  fbs  ...  exang  oldpeak  slope  ca  thal  target\n",
              "0     63    1   3       145   233    1  ...      0      2.3      0   0     1       1\n",
              "1     37    1   2       130   250    0  ...      0      3.5      0   0     2       1\n",
              "2     41    0   1       130   204    0  ...      0      1.4      2   0     2       1\n",
              "3     56    1   1       120   236    0  ...      0      0.8      2   0     2       1\n",
              "4     57    0   0       120   354    0  ...      1      0.6      2   0     2       1\n",
              "..   ...  ...  ..       ...   ...  ...  ...    ...      ...    ...  ..   ...     ...\n",
              "298   57    0   0       140   241    0  ...      1      0.2      1   0     3       0\n",
              "299   45    1   3       110   264    0  ...      0      1.2      1   0     3       0\n",
              "300   68    1   0       144   193    1  ...      0      3.4      1   2     3       0\n",
              "301   57    1   0       130   131    0  ...      1      1.2      1   1     3       0\n",
              "302   57    0   1       130   236    0  ...      0      0.0      1   1     2       0\n",
              "\n",
              "[303 rows x 14 columns]"
            ]
          },
          "metadata": {},
          "execution_count": 236
        }
      ]
    },
    {
      "cell_type": "markdown",
      "metadata": {
        "id": "U18TgZH3hV3o"
      },
      "source": [
        "## Data Wrangling"
      ]
    },
    {
      "cell_type": "code",
      "metadata": {
        "colab": {
          "base_uri": "https://localhost:8080/",
          "height": 417
        },
        "id": "2PsuM20-hPbH",
        "outputId": "3cb41e92-d02c-4619-d712-711ccd55d791"
      },
      "source": [
        "df = df.rename(columns={\"age\": \"Age\", \"cp\": \"ChestPain\", \"trestbps\": \"Resting Blood Pressure\",\n",
        "                   \"chol\": \"Cholesterol\", \"thalach\": \"Max Heart Beats\", \"oldpeak\": \"ST Depression\"})\n",
        "df"
      ],
      "execution_count": 237,
      "outputs": [
        {
          "output_type": "execute_result",
          "data": {
            "text/html": [
              "<div>\n",
              "<style scoped>\n",
              "    .dataframe tbody tr th:only-of-type {\n",
              "        vertical-align: middle;\n",
              "    }\n",
              "\n",
              "    .dataframe tbody tr th {\n",
              "        vertical-align: top;\n",
              "    }\n",
              "\n",
              "    .dataframe thead th {\n",
              "        text-align: right;\n",
              "    }\n",
              "</style>\n",
              "<table border=\"1\" class=\"dataframe\">\n",
              "  <thead>\n",
              "    <tr style=\"text-align: right;\">\n",
              "      <th></th>\n",
              "      <th>Age</th>\n",
              "      <th>sex</th>\n",
              "      <th>ChestPain</th>\n",
              "      <th>Resting Blood Pressure</th>\n",
              "      <th>Cholesterol</th>\n",
              "      <th>fbs</th>\n",
              "      <th>restecg</th>\n",
              "      <th>Max Heart Beats</th>\n",
              "      <th>exang</th>\n",
              "      <th>ST Depression</th>\n",
              "      <th>slope</th>\n",
              "      <th>ca</th>\n",
              "      <th>thal</th>\n",
              "      <th>target</th>\n",
              "    </tr>\n",
              "  </thead>\n",
              "  <tbody>\n",
              "    <tr>\n",
              "      <th>0</th>\n",
              "      <td>63</td>\n",
              "      <td>1</td>\n",
              "      <td>3</td>\n",
              "      <td>145</td>\n",
              "      <td>233</td>\n",
              "      <td>1</td>\n",
              "      <td>0</td>\n",
              "      <td>150</td>\n",
              "      <td>0</td>\n",
              "      <td>2.3</td>\n",
              "      <td>0</td>\n",
              "      <td>0</td>\n",
              "      <td>1</td>\n",
              "      <td>1</td>\n",
              "    </tr>\n",
              "    <tr>\n",
              "      <th>1</th>\n",
              "      <td>37</td>\n",
              "      <td>1</td>\n",
              "      <td>2</td>\n",
              "      <td>130</td>\n",
              "      <td>250</td>\n",
              "      <td>0</td>\n",
              "      <td>1</td>\n",
              "      <td>187</td>\n",
              "      <td>0</td>\n",
              "      <td>3.5</td>\n",
              "      <td>0</td>\n",
              "      <td>0</td>\n",
              "      <td>2</td>\n",
              "      <td>1</td>\n",
              "    </tr>\n",
              "    <tr>\n",
              "      <th>2</th>\n",
              "      <td>41</td>\n",
              "      <td>0</td>\n",
              "      <td>1</td>\n",
              "      <td>130</td>\n",
              "      <td>204</td>\n",
              "      <td>0</td>\n",
              "      <td>0</td>\n",
              "      <td>172</td>\n",
              "      <td>0</td>\n",
              "      <td>1.4</td>\n",
              "      <td>2</td>\n",
              "      <td>0</td>\n",
              "      <td>2</td>\n",
              "      <td>1</td>\n",
              "    </tr>\n",
              "    <tr>\n",
              "      <th>3</th>\n",
              "      <td>56</td>\n",
              "      <td>1</td>\n",
              "      <td>1</td>\n",
              "      <td>120</td>\n",
              "      <td>236</td>\n",
              "      <td>0</td>\n",
              "      <td>1</td>\n",
              "      <td>178</td>\n",
              "      <td>0</td>\n",
              "      <td>0.8</td>\n",
              "      <td>2</td>\n",
              "      <td>0</td>\n",
              "      <td>2</td>\n",
              "      <td>1</td>\n",
              "    </tr>\n",
              "    <tr>\n",
              "      <th>4</th>\n",
              "      <td>57</td>\n",
              "      <td>0</td>\n",
              "      <td>0</td>\n",
              "      <td>120</td>\n",
              "      <td>354</td>\n",
              "      <td>0</td>\n",
              "      <td>1</td>\n",
              "      <td>163</td>\n",
              "      <td>1</td>\n",
              "      <td>0.6</td>\n",
              "      <td>2</td>\n",
              "      <td>0</td>\n",
              "      <td>2</td>\n",
              "      <td>1</td>\n",
              "    </tr>\n",
              "    <tr>\n",
              "      <th>...</th>\n",
              "      <td>...</td>\n",
              "      <td>...</td>\n",
              "      <td>...</td>\n",
              "      <td>...</td>\n",
              "      <td>...</td>\n",
              "      <td>...</td>\n",
              "      <td>...</td>\n",
              "      <td>...</td>\n",
              "      <td>...</td>\n",
              "      <td>...</td>\n",
              "      <td>...</td>\n",
              "      <td>...</td>\n",
              "      <td>...</td>\n",
              "      <td>...</td>\n",
              "    </tr>\n",
              "    <tr>\n",
              "      <th>298</th>\n",
              "      <td>57</td>\n",
              "      <td>0</td>\n",
              "      <td>0</td>\n",
              "      <td>140</td>\n",
              "      <td>241</td>\n",
              "      <td>0</td>\n",
              "      <td>1</td>\n",
              "      <td>123</td>\n",
              "      <td>1</td>\n",
              "      <td>0.2</td>\n",
              "      <td>1</td>\n",
              "      <td>0</td>\n",
              "      <td>3</td>\n",
              "      <td>0</td>\n",
              "    </tr>\n",
              "    <tr>\n",
              "      <th>299</th>\n",
              "      <td>45</td>\n",
              "      <td>1</td>\n",
              "      <td>3</td>\n",
              "      <td>110</td>\n",
              "      <td>264</td>\n",
              "      <td>0</td>\n",
              "      <td>1</td>\n",
              "      <td>132</td>\n",
              "      <td>0</td>\n",
              "      <td>1.2</td>\n",
              "      <td>1</td>\n",
              "      <td>0</td>\n",
              "      <td>3</td>\n",
              "      <td>0</td>\n",
              "    </tr>\n",
              "    <tr>\n",
              "      <th>300</th>\n",
              "      <td>68</td>\n",
              "      <td>1</td>\n",
              "      <td>0</td>\n",
              "      <td>144</td>\n",
              "      <td>193</td>\n",
              "      <td>1</td>\n",
              "      <td>1</td>\n",
              "      <td>141</td>\n",
              "      <td>0</td>\n",
              "      <td>3.4</td>\n",
              "      <td>1</td>\n",
              "      <td>2</td>\n",
              "      <td>3</td>\n",
              "      <td>0</td>\n",
              "    </tr>\n",
              "    <tr>\n",
              "      <th>301</th>\n",
              "      <td>57</td>\n",
              "      <td>1</td>\n",
              "      <td>0</td>\n",
              "      <td>130</td>\n",
              "      <td>131</td>\n",
              "      <td>0</td>\n",
              "      <td>1</td>\n",
              "      <td>115</td>\n",
              "      <td>1</td>\n",
              "      <td>1.2</td>\n",
              "      <td>1</td>\n",
              "      <td>1</td>\n",
              "      <td>3</td>\n",
              "      <td>0</td>\n",
              "    </tr>\n",
              "    <tr>\n",
              "      <th>302</th>\n",
              "      <td>57</td>\n",
              "      <td>0</td>\n",
              "      <td>1</td>\n",
              "      <td>130</td>\n",
              "      <td>236</td>\n",
              "      <td>0</td>\n",
              "      <td>0</td>\n",
              "      <td>174</td>\n",
              "      <td>0</td>\n",
              "      <td>0.0</td>\n",
              "      <td>1</td>\n",
              "      <td>1</td>\n",
              "      <td>2</td>\n",
              "      <td>0</td>\n",
              "    </tr>\n",
              "  </tbody>\n",
              "</table>\n",
              "<p>303 rows × 14 columns</p>\n",
              "</div>"
            ],
            "text/plain": [
              "     Age  sex  ChestPain  Resting Blood Pressure  ...  slope  ca  thal  target\n",
              "0     63    1          3                     145  ...      0   0     1       1\n",
              "1     37    1          2                     130  ...      0   0     2       1\n",
              "2     41    0          1                     130  ...      2   0     2       1\n",
              "3     56    1          1                     120  ...      2   0     2       1\n",
              "4     57    0          0                     120  ...      2   0     2       1\n",
              "..   ...  ...        ...                     ...  ...    ...  ..   ...     ...\n",
              "298   57    0          0                     140  ...      1   0     3       0\n",
              "299   45    1          3                     110  ...      1   0     3       0\n",
              "300   68    1          0                     144  ...      1   2     3       0\n",
              "301   57    1          0                     130  ...      1   1     3       0\n",
              "302   57    0          1                     130  ...      1   1     2       0\n",
              "\n",
              "[303 rows x 14 columns]"
            ]
          },
          "metadata": {},
          "execution_count": 237
        }
      ]
    },
    {
      "cell_type": "markdown",
      "metadata": {
        "id": "dmD9wVaXEbqi"
      },
      "source": [
        "## Data Sampling and Data Decscription"
      ]
    },
    {
      "cell_type": "code",
      "metadata": {
        "colab": {
          "base_uri": "https://localhost:8080/"
        },
        "id": "uaBIVO2AEYWm",
        "outputId": "03bda9a1-7cf2-4c57-8819-3174d28ca23a"
      },
      "source": [
        "df.shape"
      ],
      "execution_count": 238,
      "outputs": [
        {
          "output_type": "execute_result",
          "data": {
            "text/plain": [
              "(303, 14)"
            ]
          },
          "metadata": {},
          "execution_count": 238
        }
      ]
    },
    {
      "cell_type": "code",
      "metadata": {
        "colab": {
          "base_uri": "https://localhost:8080/",
          "height": 203
        },
        "id": "jPPOIKy5O1li",
        "outputId": "9bf7ad18-54e5-4fab-9645-2fe1be301bdf"
      },
      "source": [
        "df.head()"
      ],
      "execution_count": 239,
      "outputs": [
        {
          "output_type": "execute_result",
          "data": {
            "text/html": [
              "<div>\n",
              "<style scoped>\n",
              "    .dataframe tbody tr th:only-of-type {\n",
              "        vertical-align: middle;\n",
              "    }\n",
              "\n",
              "    .dataframe tbody tr th {\n",
              "        vertical-align: top;\n",
              "    }\n",
              "\n",
              "    .dataframe thead th {\n",
              "        text-align: right;\n",
              "    }\n",
              "</style>\n",
              "<table border=\"1\" class=\"dataframe\">\n",
              "  <thead>\n",
              "    <tr style=\"text-align: right;\">\n",
              "      <th></th>\n",
              "      <th>Age</th>\n",
              "      <th>sex</th>\n",
              "      <th>ChestPain</th>\n",
              "      <th>Resting Blood Pressure</th>\n",
              "      <th>Cholesterol</th>\n",
              "      <th>fbs</th>\n",
              "      <th>restecg</th>\n",
              "      <th>Max Heart Beats</th>\n",
              "      <th>exang</th>\n",
              "      <th>ST Depression</th>\n",
              "      <th>slope</th>\n",
              "      <th>ca</th>\n",
              "      <th>thal</th>\n",
              "      <th>target</th>\n",
              "    </tr>\n",
              "  </thead>\n",
              "  <tbody>\n",
              "    <tr>\n",
              "      <th>0</th>\n",
              "      <td>63</td>\n",
              "      <td>1</td>\n",
              "      <td>3</td>\n",
              "      <td>145</td>\n",
              "      <td>233</td>\n",
              "      <td>1</td>\n",
              "      <td>0</td>\n",
              "      <td>150</td>\n",
              "      <td>0</td>\n",
              "      <td>2.3</td>\n",
              "      <td>0</td>\n",
              "      <td>0</td>\n",
              "      <td>1</td>\n",
              "      <td>1</td>\n",
              "    </tr>\n",
              "    <tr>\n",
              "      <th>1</th>\n",
              "      <td>37</td>\n",
              "      <td>1</td>\n",
              "      <td>2</td>\n",
              "      <td>130</td>\n",
              "      <td>250</td>\n",
              "      <td>0</td>\n",
              "      <td>1</td>\n",
              "      <td>187</td>\n",
              "      <td>0</td>\n",
              "      <td>3.5</td>\n",
              "      <td>0</td>\n",
              "      <td>0</td>\n",
              "      <td>2</td>\n",
              "      <td>1</td>\n",
              "    </tr>\n",
              "    <tr>\n",
              "      <th>2</th>\n",
              "      <td>41</td>\n",
              "      <td>0</td>\n",
              "      <td>1</td>\n",
              "      <td>130</td>\n",
              "      <td>204</td>\n",
              "      <td>0</td>\n",
              "      <td>0</td>\n",
              "      <td>172</td>\n",
              "      <td>0</td>\n",
              "      <td>1.4</td>\n",
              "      <td>2</td>\n",
              "      <td>0</td>\n",
              "      <td>2</td>\n",
              "      <td>1</td>\n",
              "    </tr>\n",
              "    <tr>\n",
              "      <th>3</th>\n",
              "      <td>56</td>\n",
              "      <td>1</td>\n",
              "      <td>1</td>\n",
              "      <td>120</td>\n",
              "      <td>236</td>\n",
              "      <td>0</td>\n",
              "      <td>1</td>\n",
              "      <td>178</td>\n",
              "      <td>0</td>\n",
              "      <td>0.8</td>\n",
              "      <td>2</td>\n",
              "      <td>0</td>\n",
              "      <td>2</td>\n",
              "      <td>1</td>\n",
              "    </tr>\n",
              "    <tr>\n",
              "      <th>4</th>\n",
              "      <td>57</td>\n",
              "      <td>0</td>\n",
              "      <td>0</td>\n",
              "      <td>120</td>\n",
              "      <td>354</td>\n",
              "      <td>0</td>\n",
              "      <td>1</td>\n",
              "      <td>163</td>\n",
              "      <td>1</td>\n",
              "      <td>0.6</td>\n",
              "      <td>2</td>\n",
              "      <td>0</td>\n",
              "      <td>2</td>\n",
              "      <td>1</td>\n",
              "    </tr>\n",
              "  </tbody>\n",
              "</table>\n",
              "</div>"
            ],
            "text/plain": [
              "   Age  sex  ChestPain  Resting Blood Pressure  ...  slope  ca  thal  target\n",
              "0   63    1          3                     145  ...      0   0     1       1\n",
              "1   37    1          2                     130  ...      0   0     2       1\n",
              "2   41    0          1                     130  ...      2   0     2       1\n",
              "3   56    1          1                     120  ...      2   0     2       1\n",
              "4   57    0          0                     120  ...      2   0     2       1\n",
              "\n",
              "[5 rows x 14 columns]"
            ]
          },
          "metadata": {},
          "execution_count": 239
        }
      ]
    },
    {
      "cell_type": "markdown",
      "metadata": {
        "id": "jOoy2atLEtzx"
      },
      "source": [
        "## Statistics"
      ]
    },
    {
      "cell_type": "code",
      "metadata": {
        "colab": {
          "base_uri": "https://localhost:8080/",
          "height": 480
        },
        "id": "5MazcTslO4v5",
        "outputId": "0ed66ba9-7ecc-412a-f950-d515de6c651b"
      },
      "source": [
        "df.describe().transpose()"
      ],
      "execution_count": 240,
      "outputs": [
        {
          "output_type": "execute_result",
          "data": {
            "text/html": [
              "<div>\n",
              "<style scoped>\n",
              "    .dataframe tbody tr th:only-of-type {\n",
              "        vertical-align: middle;\n",
              "    }\n",
              "\n",
              "    .dataframe tbody tr th {\n",
              "        vertical-align: top;\n",
              "    }\n",
              "\n",
              "    .dataframe thead th {\n",
              "        text-align: right;\n",
              "    }\n",
              "</style>\n",
              "<table border=\"1\" class=\"dataframe\">\n",
              "  <thead>\n",
              "    <tr style=\"text-align: right;\">\n",
              "      <th></th>\n",
              "      <th>count</th>\n",
              "      <th>mean</th>\n",
              "      <th>std</th>\n",
              "      <th>min</th>\n",
              "      <th>25%</th>\n",
              "      <th>50%</th>\n",
              "      <th>75%</th>\n",
              "      <th>max</th>\n",
              "    </tr>\n",
              "  </thead>\n",
              "  <tbody>\n",
              "    <tr>\n",
              "      <th>Age</th>\n",
              "      <td>303.0</td>\n",
              "      <td>54.366337</td>\n",
              "      <td>9.082101</td>\n",
              "      <td>29.0</td>\n",
              "      <td>47.5</td>\n",
              "      <td>55.0</td>\n",
              "      <td>61.0</td>\n",
              "      <td>77.0</td>\n",
              "    </tr>\n",
              "    <tr>\n",
              "      <th>sex</th>\n",
              "      <td>303.0</td>\n",
              "      <td>0.683168</td>\n",
              "      <td>0.466011</td>\n",
              "      <td>0.0</td>\n",
              "      <td>0.0</td>\n",
              "      <td>1.0</td>\n",
              "      <td>1.0</td>\n",
              "      <td>1.0</td>\n",
              "    </tr>\n",
              "    <tr>\n",
              "      <th>ChestPain</th>\n",
              "      <td>303.0</td>\n",
              "      <td>0.966997</td>\n",
              "      <td>1.032052</td>\n",
              "      <td>0.0</td>\n",
              "      <td>0.0</td>\n",
              "      <td>1.0</td>\n",
              "      <td>2.0</td>\n",
              "      <td>3.0</td>\n",
              "    </tr>\n",
              "    <tr>\n",
              "      <th>Resting Blood Pressure</th>\n",
              "      <td>303.0</td>\n",
              "      <td>131.623762</td>\n",
              "      <td>17.538143</td>\n",
              "      <td>94.0</td>\n",
              "      <td>120.0</td>\n",
              "      <td>130.0</td>\n",
              "      <td>140.0</td>\n",
              "      <td>200.0</td>\n",
              "    </tr>\n",
              "    <tr>\n",
              "      <th>Cholesterol</th>\n",
              "      <td>303.0</td>\n",
              "      <td>246.264026</td>\n",
              "      <td>51.830751</td>\n",
              "      <td>126.0</td>\n",
              "      <td>211.0</td>\n",
              "      <td>240.0</td>\n",
              "      <td>274.5</td>\n",
              "      <td>564.0</td>\n",
              "    </tr>\n",
              "    <tr>\n",
              "      <th>fbs</th>\n",
              "      <td>303.0</td>\n",
              "      <td>0.148515</td>\n",
              "      <td>0.356198</td>\n",
              "      <td>0.0</td>\n",
              "      <td>0.0</td>\n",
              "      <td>0.0</td>\n",
              "      <td>0.0</td>\n",
              "      <td>1.0</td>\n",
              "    </tr>\n",
              "    <tr>\n",
              "      <th>restecg</th>\n",
              "      <td>303.0</td>\n",
              "      <td>0.528053</td>\n",
              "      <td>0.525860</td>\n",
              "      <td>0.0</td>\n",
              "      <td>0.0</td>\n",
              "      <td>1.0</td>\n",
              "      <td>1.0</td>\n",
              "      <td>2.0</td>\n",
              "    </tr>\n",
              "    <tr>\n",
              "      <th>Max Heart Beats</th>\n",
              "      <td>303.0</td>\n",
              "      <td>149.646865</td>\n",
              "      <td>22.905161</td>\n",
              "      <td>71.0</td>\n",
              "      <td>133.5</td>\n",
              "      <td>153.0</td>\n",
              "      <td>166.0</td>\n",
              "      <td>202.0</td>\n",
              "    </tr>\n",
              "    <tr>\n",
              "      <th>exang</th>\n",
              "      <td>303.0</td>\n",
              "      <td>0.326733</td>\n",
              "      <td>0.469794</td>\n",
              "      <td>0.0</td>\n",
              "      <td>0.0</td>\n",
              "      <td>0.0</td>\n",
              "      <td>1.0</td>\n",
              "      <td>1.0</td>\n",
              "    </tr>\n",
              "    <tr>\n",
              "      <th>ST Depression</th>\n",
              "      <td>303.0</td>\n",
              "      <td>1.039604</td>\n",
              "      <td>1.161075</td>\n",
              "      <td>0.0</td>\n",
              "      <td>0.0</td>\n",
              "      <td>0.8</td>\n",
              "      <td>1.6</td>\n",
              "      <td>6.2</td>\n",
              "    </tr>\n",
              "    <tr>\n",
              "      <th>slope</th>\n",
              "      <td>303.0</td>\n",
              "      <td>1.399340</td>\n",
              "      <td>0.616226</td>\n",
              "      <td>0.0</td>\n",
              "      <td>1.0</td>\n",
              "      <td>1.0</td>\n",
              "      <td>2.0</td>\n",
              "      <td>2.0</td>\n",
              "    </tr>\n",
              "    <tr>\n",
              "      <th>ca</th>\n",
              "      <td>303.0</td>\n",
              "      <td>0.729373</td>\n",
              "      <td>1.022606</td>\n",
              "      <td>0.0</td>\n",
              "      <td>0.0</td>\n",
              "      <td>0.0</td>\n",
              "      <td>1.0</td>\n",
              "      <td>4.0</td>\n",
              "    </tr>\n",
              "    <tr>\n",
              "      <th>thal</th>\n",
              "      <td>303.0</td>\n",
              "      <td>2.313531</td>\n",
              "      <td>0.612277</td>\n",
              "      <td>0.0</td>\n",
              "      <td>2.0</td>\n",
              "      <td>2.0</td>\n",
              "      <td>3.0</td>\n",
              "      <td>3.0</td>\n",
              "    </tr>\n",
              "    <tr>\n",
              "      <th>target</th>\n",
              "      <td>303.0</td>\n",
              "      <td>0.544554</td>\n",
              "      <td>0.498835</td>\n",
              "      <td>0.0</td>\n",
              "      <td>0.0</td>\n",
              "      <td>1.0</td>\n",
              "      <td>1.0</td>\n",
              "      <td>1.0</td>\n",
              "    </tr>\n",
              "  </tbody>\n",
              "</table>\n",
              "</div>"
            ],
            "text/plain": [
              "                        count        mean        std  ...    50%    75%    max\n",
              "Age                     303.0   54.366337   9.082101  ...   55.0   61.0   77.0\n",
              "sex                     303.0    0.683168   0.466011  ...    1.0    1.0    1.0\n",
              "ChestPain               303.0    0.966997   1.032052  ...    1.0    2.0    3.0\n",
              "Resting Blood Pressure  303.0  131.623762  17.538143  ...  130.0  140.0  200.0\n",
              "Cholesterol             303.0  246.264026  51.830751  ...  240.0  274.5  564.0\n",
              "fbs                     303.0    0.148515   0.356198  ...    0.0    0.0    1.0\n",
              "restecg                 303.0    0.528053   0.525860  ...    1.0    1.0    2.0\n",
              "Max Heart Beats         303.0  149.646865  22.905161  ...  153.0  166.0  202.0\n",
              "exang                   303.0    0.326733   0.469794  ...    0.0    1.0    1.0\n",
              "ST Depression           303.0    1.039604   1.161075  ...    0.8    1.6    6.2\n",
              "slope                   303.0    1.399340   0.616226  ...    1.0    2.0    2.0\n",
              "ca                      303.0    0.729373   1.022606  ...    0.0    1.0    4.0\n",
              "thal                    303.0    2.313531   0.612277  ...    2.0    3.0    3.0\n",
              "target                  303.0    0.544554   0.498835  ...    1.0    1.0    1.0\n",
              "\n",
              "[14 rows x 8 columns]"
            ]
          },
          "metadata": {},
          "execution_count": 240
        }
      ]
    },
    {
      "cell_type": "markdown",
      "metadata": {
        "id": "4TARBrrBYijF"
      },
      "source": [
        "## Data Columns"
      ]
    },
    {
      "cell_type": "code",
      "metadata": {
        "colab": {
          "base_uri": "https://localhost:8080/"
        },
        "id": "-EmSExDhO9x_",
        "outputId": "9ed8e973-a38c-4d3b-8a6f-3e432277f4ca"
      },
      "source": [
        "df.columns"
      ],
      "execution_count": 241,
      "outputs": [
        {
          "output_type": "execute_result",
          "data": {
            "text/plain": [
              "Index(['Age', 'sex', 'ChestPain', 'Resting Blood Pressure', 'Cholesterol',\n",
              "       'fbs', 'restecg', 'Max Heart Beats', 'exang', 'ST Depression', 'slope',\n",
              "       'ca', 'thal', 'target'],\n",
              "      dtype='object')"
            ]
          },
          "metadata": {},
          "execution_count": 241
        }
      ]
    },
    {
      "cell_type": "markdown",
      "metadata": {
        "id": "UwhuTfF7Y--T"
      },
      "source": [
        "## Elbow Method for calculating Clusters"
      ]
    },
    {
      "cell_type": "code",
      "metadata": {
        "colab": {
          "base_uri": "https://localhost:8080/",
          "height": 295
        },
        "id": "H5OJnmQjZ94I",
        "outputId": "3aae5d3a-f08b-462a-9e8e-7f99a498115e"
      },
      "source": [
        "cs = []\n",
        "for i in range(1, 12):\n",
        "  kmeans = KMeans(n_clusters = i, init = 'k-means++', max_iter = 300, n_init = 10, random_state = 0)\n",
        "  model = kmeans.fit(df)\n",
        "  #print(\"model\\n\", model)\n",
        "  cs.append(kmeans.inertia_)\n",
        "plt.plot(range(1, 12), cs)\n",
        "plt.title('The Elbow Method')\n",
        "plt.xlabel('Number of clusters')\n",
        "plt.ylabel('CS')\n",
        "plt.show()"
      ],
      "execution_count": 242,
      "outputs": [
        {
          "output_type": "display_data",
          "data": {
            "image/png": "[encoded data removed]",
            "text/plain": [
              "<Figure size 432x288 with 1 Axes>"
            ]
          },
          "metadata": {
            "needs_background": "light"
          }
        }
      ]
    },
    {
      "cell_type": "markdown",
      "metadata": {
        "id": "rPOpzjNDkjah"
      },
      "source": [
        "## Code Snippet for Scikit Clustering"
      ]
    },
    {
      "cell_type": "code",
      "metadata": {
        "id": "glIQQe9qPkQf"
      },
      "source": [
        "def k_means_clustering_scikit(col1,col2):\n",
        "  best_cols=[col1.name,col2.name]\n",
        "  kmeans = KMeans(n_clusters=6, init =\"k-means++\", n_init=10, max_iter=300)\n",
        "  best_vals = df[best_cols].iloc[ :, [0,1]].values\n",
        "  y_pred = kmeans.fit_predict(best_vals)\n",
        "\n",
        "  df[\"cluster\"] = y_pred\n",
        "  kmeans.cluster_centers_\n",
        "\n",
        "  best_cols.append(\"cluster\")\n",
        "  sns.lmplot(data=df, x=col1.name, y=col2.name, hue='cluster', fit_reg=False, legend=True, legend_out=True)\n",
        "  plt.scatter(kmeans.cluster_centers_[:,0],kmeans.cluster_centers_[:,1],color='black',marker='*',label='centroid')"
      ],
      "execution_count": 243,
      "outputs": []
    },
    {
      "cell_type": "markdown",
      "metadata": {
        "id": "uCOVZd3tksyk"
      },
      "source": [
        "## Code Snippet for TensorFlow Clustering"
      ]
    },
    {
      "cell_type": "code",
      "metadata": {
        "id": "3u1kVA04cOEm"
      },
      "source": [
        "def calculate_data_points(df_col_1, df_col_2, clusters):\n",
        "  vec_vals = []\n",
        "  for i in range(len(df_col_1)):\n",
        "      a = df_col_1[i]\n",
        "      b = df_col_2[i]\n",
        "      vec_vals.append([a, b])\n",
        "  v_vals = np.array(vec_vals)\n",
        "  np.random.shuffle(v_vals)    \n",
        "  tf.compat.v1.disable_eager_execution()\n",
        "  sess = tf.compat.v1.Session()\n",
        "  k = clusters\n",
        "  points = v_vals\n",
        "  return points\n",
        "\n",
        "def k_means_clustering_tensorflow(df_col_1, df_col_2, clusters, steps=100):\n",
        "    '''\n",
        "    Takes in two dataframe columns and outputs plot of clusters.\n",
        "    '''\n",
        "    points = calculate_data_points(df_col_1, df_col_2, clusters)\n",
        "    def input_fn():\n",
        "      return tf.compat.v1.train.limit_epochs(tf.convert_to_tensor(points, dtype=tf.float32), num_epochs=1)\n",
        "\n",
        "    num_clusters = 6\n",
        "    kmeans = tf.compat.v1.estimator.experimental.KMeans(\n",
        "        num_clusters=num_clusters, use_mini_batch=False)\n",
        "\n",
        "    # train\n",
        "    num_iterations = 10\n",
        "    previous_centers = None\n",
        "    for _ in xrange(num_iterations):\n",
        "      kmeans.train(input_fn)\n",
        "      cluster_centers = kmeans.cluster_centers()\n",
        "      #if previous_centers is not None:\n",
        "        #print('delta:', cluster_centers - previous_centers)\n",
        "      previous_centers = cluster_centers\n",
        "      #print('score:', kmeans.score(input_fn))\n",
        "    #print('cluster centers:', cluster_centers)\n",
        "\n",
        "    # map the input points to their clusters\n",
        "    cluster_indices = list(kmeans.predict_cluster_index(input_fn))\n",
        "    for i, point in enumerate(points):\n",
        "      cluster_index = cluster_indices[i]\n",
        "      center = cluster_centers[cluster_index]\n",
        "      #print('point:', point, 'is in cluster', cluster_index, 'centered at', center)\n",
        "            \n",
        "    clusters_df = pd.DataFrame({df_col_1.name: points[:,0], df_col_2.name: points[:,1], \"cluster\": cluster_indices})\n",
        "    sns.lmplot(df_col_1.name, df_col_2.name, data=clusters_df, fit_reg=False, height=6, hue=\"cluster\")\n",
        "    plt.scatter(cluster_centers[:,0],cluster_centers[:,1],color='black',marker='*',label='centroid')\n",
        "    plt.show()\n",
        "    "
      ],
      "execution_count": 244,
      "outputs": []
    },
    {
      "cell_type": "markdown",
      "metadata": {
        "id": "0sWcx63qYnYu"
      },
      "source": [
        "## Scatter Plot for Age and Cholesterol"
      ]
    },
    {
      "cell_type": "code",
      "metadata": {
        "colab": {
          "base_uri": "https://localhost:8080/",
          "height": 297
        },
        "id": "VSwsnP9XPEGu",
        "outputId": "c460656c-8489-4dc3-aca2-d1fc3757f5a6"
      },
      "source": [
        "plt.scatter(df['Age'],df['Cholesterol'])\n",
        "plt.xlabel('Age')\n",
        "plt.ylabel('Cholesterol')"
      ],
      "execution_count": 245,
      "outputs": [
        {
          "output_type": "execute_result",
          "data": {
            "text/plain": [
              "Text(0, 0.5, 'Cholesterol')"
            ]
          },
          "metadata": {},
          "execution_count": 245
        },
        {
          "output_type": "display_data",
          "data": {
            "image/png": "[encoded data removed]",
            "text/plain": [
              "<Figure size 432x288 with 1 Axes>"
            ]
          },
          "metadata": {
            "needs_background": "light"
          }
        }
      ]
    },
    {
      "cell_type": "markdown",
      "metadata": {
        "id": "AFgK2nFYZKsX"
      },
      "source": [
        "## Clustering with reference to Age and Cholesterol level (SciKit)"
      ]
    },
    {
      "cell_type": "code",
      "metadata": {
        "colab": {
          "base_uri": "https://localhost:8080/",
          "height": 383
        },
        "id": "DdVNh-iKoS3L",
        "outputId": "a6ee1692-510b-4cce-9549-8af1826c6d02"
      },
      "source": [
        "k_means_clustering_scikit(df['Age'], df['Cholesterol'])"
      ],
      "execution_count": 246,
      "outputs": [
        {
          "output_type": "display_data",
          "data": {
            "image/png": "[encoded data removed]",
            "text/plain": [
              "<Figure size 402.375x360 with 1 Axes>"
            ]
          },
          "metadata": {
            "needs_background": "light"
          }
        }
      ]
    },
    {
      "cell_type": "markdown",
      "metadata": {
        "id": "Lx-dYMDsb0Hf"
      },
      "source": [
        "## Clustering with reference to Age and Cholesterol level (TensorFlow)\n"
      ]
    },
    {
      "cell_type": "code",
      "metadata": {
        "colab": {
          "base_uri": "https://localhost:8080/",
          "height": 1000
        },
        "id": "ZswygAy3bdtn",
        "outputId": "e812cdcb-95d0-444a-9e4a-88ce26e7297a"
      },
      "source": [
        "k_means_clustering_tensorflow(df['Age'], df['Cholesterol'], 6)"
      ],
      "execution_count": 247,
      "outputs": [
        {
          "output_type": "stream",
          "name": "stdout",
          "text": [
            "INFO:tensorflow:Using default config.\n",
            "WARNING:tensorflow:Using temporary folder as model directory: /tmp/tmpx4q9t_ry\n",
            "INFO:tensorflow:Using config: {'_model_dir': '/tmp/tmpx4q9t_ry', '_tf_random_seed': None, '_save_summary_steps': 100, '_save_checkpoints_steps': None, '_save_checkpoints_secs': 600, '_session_config': allow_soft_placement: true\n",
            "graph_options {\n",
            "  rewrite_options {\n",
            "    meta_optimizer_iterations: ONE\n",
            "  }\n",
            "}\n",
            ", '_keep_checkpoint_max': 5, '_keep_checkpoint_every_n_hours': 10000, '_log_step_count_steps': 100, '_train_distribute': None, '_device_fn': None, '_protocol': None, '_eval_distribute': None, '_experimental_distribute': None, '_experimental_max_worker_delay_secs': None, '_session_creation_timeout_secs': 7200, '_checkpoint_save_graph_def': True, '_service': None, '_cluster_spec': ClusterSpec({}), '_task_type': 'worker', '_task_id': 0, '_global_id_in_cluster': 0, '_master': '', '_evaluation_master': '', '_is_chief': True, '_num_ps_replicas': 0, '_num_worker_replicas': 1}\n",
            "INFO:tensorflow:Calling model_fn.\n",
            "INFO:tensorflow:Done calling model_fn.\n",
            "INFO:tensorflow:Create CheckpointSaverHook.\n",
            "INFO:tensorflow:Graph was finalized.\n",
            "INFO:tensorflow:Running local_init_op.\n",
            "INFO:tensorflow:Done running local_init_op.\n",
            "INFO:tensorflow:Calling checkpoint listeners before saving checkpoint 0...\n",
            "INFO:tensorflow:Saving checkpoints for 0 into /tmp/tmpx4q9t_ry/model.ckpt.\n",
            "INFO:tensorflow:Calling checkpoint listeners after saving checkpoint 0...\n",
            "INFO:tensorflow:Calling checkpoint listeners before saving checkpoint 1...\n",
            "INFO:tensorflow:Saving checkpoints for 1 into /tmp/tmpx4q9t_ry/model.ckpt.\n",
            "INFO:tensorflow:Calling checkpoint listeners after saving checkpoint 1...\n",
            "INFO:tensorflow:Loss for final step: None.\n",
            "INFO:tensorflow:Calling model_fn.\n",
            "INFO:tensorflow:Done calling model_fn.\n",
            "INFO:tensorflow:Create CheckpointSaverHook.\n",
            "INFO:tensorflow:Graph was finalized.\n",
            "INFO:tensorflow:Restoring parameters from /tmp/tmpx4q9t_ry/model.ckpt-1\n",
            "INFO:tensorflow:Running local_init_op.\n",
            "INFO:tensorflow:Done running local_init_op.\n",
            "INFO:tensorflow:Calling checkpoint listeners before saving checkpoint 1...\n",
            "INFO:tensorflow:Saving checkpoints for 1 into /tmp/tmpx4q9t_ry/model.ckpt.\n",
            "INFO:tensorflow:Calling checkpoint listeners after saving checkpoint 1...\n",
            "INFO:tensorflow:loss = 171643.0, step = 1\n",
            "INFO:tensorflow:Calling checkpoint listeners before saving checkpoint 3...\n",
            "INFO:tensorflow:Saving checkpoints for 3 into /tmp/tmpx4q9t_ry/model.ckpt.\n",
            "INFO:tensorflow:Calling checkpoint listeners after saving checkpoint 3...\n",
            "INFO:tensorflow:Loss for final step: 171643.0.\n",
            "INFO:tensorflow:Calling model_fn.\n",
            "INFO:tensorflow:Done calling model_fn.\n",
            "INFO:tensorflow:Create CheckpointSaverHook.\n",
            "INFO:tensorflow:Graph was finalized.\n",
            "INFO:tensorflow:Restoring parameters from /tmp/tmpx4q9t_ry/model.ckpt-3\n",
            "INFO:tensorflow:Running local_init_op.\n",
            "INFO:tensorflow:Done running local_init_op.\n",
            "INFO:tensorflow:Calling checkpoint listeners before saving checkpoint 3...\n",
            "INFO:tensorflow:Saving checkpoints for 3 into /tmp/tmpx4q9t_ry/model.ckpt.\n",
            "INFO:tensorflow:Calling checkpoint listeners after saving checkpoint 3...\n",
            "INFO:tensorflow:loss = 106216.5, step = 3\n",
            "INFO:tensorflow:Calling checkpoint listeners before saving checkpoint 5...\n",
            "INFO:tensorflow:Saving checkpoints for 5 into /tmp/tmpx4q9t_ry/model.ckpt.\n",
            "INFO:tensorflow:Calling checkpoint listeners after saving checkpoint 5...\n",
            "INFO:tensorflow:Loss for final step: 106216.5.\n",
            "INFO:tensorflow:Calling model_fn.\n",
            "INFO:tensorflow:Done calling model_fn.\n",
            "INFO:tensorflow:Create CheckpointSaverHook.\n",
            "INFO:tensorflow:Graph was finalized.\n",
            "INFO:tensorflow:Restoring parameters from /tmp/tmpx4q9t_ry/model.ckpt-5\n",
            "INFO:tensorflow:Running local_init_op.\n",
            "INFO:tensorflow:Done running local_init_op.\n",
            "INFO:tensorflow:Calling checkpoint listeners before saving checkpoint 5...\n",
            "INFO:tensorflow:Saving checkpoints for 5 into /tmp/tmpx4q9t_ry/model.ckpt.\n",
            "INFO:tensorflow:Calling checkpoint listeners after saving checkpoint 5...\n",
            "INFO:tensorflow:loss = 98611.8, step = 5\n",
            "INFO:tensorflow:Calling checkpoint listeners before saving checkpoint 7...\n",
            "INFO:tensorflow:Saving checkpoints for 7 into /tmp/tmpx4q9t_ry/model.ckpt.\n",
            "INFO:tensorflow:Calling checkpoint listeners after saving checkpoint 7...\n",
            "INFO:tensorflow:Loss for final step: 98611.8.\n",
            "INFO:tensorflow:Calling model_fn.\n",
            "INFO:tensorflow:Done calling model_fn.\n",
            "INFO:tensorflow:Create CheckpointSaverHook.\n",
            "INFO:tensorflow:Graph was finalized.\n",
            "INFO:tensorflow:Restoring parameters from /tmp/tmpx4q9t_ry/model.ckpt-7\n",
            "INFO:tensorflow:Running local_init_op.\n",
            "INFO:tensorflow:Done running local_init_op.\n",
            "INFO:tensorflow:Calling checkpoint listeners before saving checkpoint 7...\n",
            "INFO:tensorflow:Saving checkpoints for 7 into /tmp/tmpx4q9t_ry/model.ckpt.\n",
            "INFO:tensorflow:Calling checkpoint listeners after saving checkpoint 7...\n",
            "INFO:tensorflow:loss = 97032.81, step = 7\n",
            "INFO:tensorflow:Calling checkpoint listeners before saving checkpoint 9...\n",
            "INFO:tensorflow:Saving checkpoints for 9 into /tmp/tmpx4q9t_ry/model.ckpt.\n",
            "INFO:tensorflow:Calling checkpoint listeners after saving checkpoint 9...\n",
            "INFO:tensorflow:Loss for final step: 97032.81.\n",
            "INFO:tensorflow:Calling model_fn.\n",
            "INFO:tensorflow:Done calling model_fn.\n",
            "INFO:tensorflow:Create CheckpointSaverHook.\n",
            "INFO:tensorflow:Graph was finalized.\n",
            "INFO:tensorflow:Restoring parameters from /tmp/tmpx4q9t_ry/model.ckpt-9\n",
            "INFO:tensorflow:Running local_init_op.\n",
            "INFO:tensorflow:Done running local_init_op.\n",
            "INFO:tensorflow:Calling checkpoint listeners before saving checkpoint 9...\n",
            "INFO:tensorflow:Saving checkpoints for 9 into /tmp/tmpx4q9t_ry/model.ckpt.\n",
            "INFO:tensorflow:Calling checkpoint listeners after saving checkpoint 9...\n",
            "INFO:tensorflow:loss = 96236.08, step = 9\n",
            "INFO:tensorflow:Calling checkpoint listeners before saving checkpoint 11...\n",
            "INFO:tensorflow:Saving checkpoints for 11 into /tmp/tmpx4q9t_ry/model.ckpt.\n",
            "INFO:tensorflow:Calling checkpoint listeners after saving checkpoint 11...\n",
            "INFO:tensorflow:Loss for final step: 96236.08.\n",
            "INFO:tensorflow:Calling model_fn.\n",
            "INFO:tensorflow:Done calling model_fn.\n",
            "INFO:tensorflow:Create CheckpointSaverHook.\n",
            "INFO:tensorflow:Graph was finalized.\n",
            "INFO:tensorflow:Restoring parameters from /tmp/tmpx4q9t_ry/model.ckpt-11\n",
            "INFO:tensorflow:Running local_init_op.\n",
            "INFO:tensorflow:Done running local_init_op.\n",
            "INFO:tensorflow:Calling checkpoint listeners before saving checkpoint 11...\n",
            "INFO:tensorflow:Saving checkpoints for 11 into /tmp/tmpx4q9t_ry/model.ckpt.\n",
            "INFO:tensorflow:Calling checkpoint listeners after saving checkpoint 11...\n",
            "INFO:tensorflow:loss = 95335.484, step = 11\n",
            "INFO:tensorflow:Calling checkpoint listeners before saving checkpoint 13...\n",
            "INFO:tensorflow:Saving checkpoints for 13 into /tmp/tmpx4q9t_ry/model.ckpt.\n",
            "INFO:tensorflow:Calling checkpoint listeners after saving checkpoint 13...\n",
            "INFO:tensorflow:Loss for final step: 95335.484.\n",
            "INFO:tensorflow:Calling model_fn.\n",
            "INFO:tensorflow:Done calling model_fn.\n",
            "INFO:tensorflow:Create CheckpointSaverHook.\n",
            "INFO:tensorflow:Graph was finalized.\n",
            "INFO:tensorflow:Restoring parameters from /tmp/tmpx4q9t_ry/model.ckpt-13\n",
            "INFO:tensorflow:Running local_init_op.\n",
            "INFO:tensorflow:Done running local_init_op.\n",
            "INFO:tensorflow:Calling checkpoint listeners before saving checkpoint 13...\n",
            "INFO:tensorflow:Saving checkpoints for 13 into /tmp/tmpx4q9t_ry/model.ckpt.\n",
            "INFO:tensorflow:Calling checkpoint listeners after saving checkpoint 13...\n",
            "INFO:tensorflow:loss = 94936.34, step = 13\n",
            "INFO:tensorflow:Calling checkpoint listeners before saving checkpoint 15...\n",
            "INFO:tensorflow:Saving checkpoints for 15 into /tmp/tmpx4q9t_ry/model.ckpt.\n",
            "INFO:tensorflow:Calling checkpoint listeners after saving checkpoint 15...\n",
            "INFO:tensorflow:Loss for final step: 94936.34.\n",
            "INFO:tensorflow:Calling model_fn.\n",
            "INFO:tensorflow:Done calling model_fn.\n",
            "INFO:tensorflow:Create CheckpointSaverHook.\n",
            "INFO:tensorflow:Graph was finalized.\n",
            "INFO:tensorflow:Restoring parameters from /tmp/tmpx4q9t_ry/model.ckpt-15\n",
            "INFO:tensorflow:Running local_init_op.\n",
            "INFO:tensorflow:Done running local_init_op.\n",
            "INFO:tensorflow:Calling checkpoint listeners before saving checkpoint 15...\n",
            "INFO:tensorflow:Saving checkpoints for 15 into /tmp/tmpx4q9t_ry/model.ckpt.\n",
            "INFO:tensorflow:Calling checkpoint listeners after saving checkpoint 15...\n",
            "INFO:tensorflow:loss = 94604.7, step = 15\n",
            "INFO:tensorflow:Calling checkpoint listeners before saving checkpoint 17...\n",
            "INFO:tensorflow:Saving checkpoints for 17 into /tmp/tmpx4q9t_ry/model.ckpt.\n",
            "INFO:tensorflow:Calling checkpoint listeners after saving checkpoint 17...\n",
            "INFO:tensorflow:Loss for final step: 94604.7.\n",
            "INFO:tensorflow:Calling model_fn.\n",
            "INFO:tensorflow:Done calling model_fn.\n",
            "INFO:tensorflow:Create CheckpointSaverHook.\n",
            "INFO:tensorflow:Graph was finalized.\n",
            "INFO:tensorflow:Restoring parameters from /tmp/tmpx4q9t_ry/model.ckpt-17\n",
            "INFO:tensorflow:Running local_init_op.\n",
            "INFO:tensorflow:Done running local_init_op.\n",
            "INFO:tensorflow:Calling checkpoint listeners before saving checkpoint 17...\n",
            "INFO:tensorflow:Saving checkpoints for 17 into /tmp/tmpx4q9t_ry/model.ckpt.\n",
            "INFO:tensorflow:Calling checkpoint listeners after saving checkpoint 17...\n",
            "INFO:tensorflow:loss = 94182.875, step = 17\n",
            "INFO:tensorflow:Calling checkpoint listeners before saving checkpoint 19...\n",
            "INFO:tensorflow:Saving checkpoints for 19 into /tmp/tmpx4q9t_ry/model.ckpt.\n",
            "INFO:tensorflow:Calling checkpoint listeners after saving checkpoint 19...\n",
            "INFO:tensorflow:Loss for final step: 94182.875.\n",
            "WARNING:tensorflow:Input graph does not use tf.data.Dataset or contain a QueueRunner. That means predict yields forever. This is probably a mistake.\n",
            "INFO:tensorflow:Calling model_fn.\n",
            "INFO:tensorflow:Done calling model_fn.\n",
            "INFO:tensorflow:Graph was finalized.\n",
            "INFO:tensorflow:Restoring parameters from /tmp/tmpx4q9t_ry/model.ckpt-19\n",
            "INFO:tensorflow:Running local_init_op.\n",
            "INFO:tensorflow:Done running local_init_op.\n"
          ]
        },
        {
          "output_type": "stream",
          "name": "stderr",
          "text": [
            "/usr/local/lib/python3.7/dist-packages/seaborn/_decorators.py:43: FutureWarning: Pass the following variables as keyword args: x, y. From version 0.12, the only valid positional argument will be `data`, and passing other arguments without an explicit keyword will result in an error or misinterpretation.\n",
            "  FutureWarning\n"
          ]
        },
        {
          "output_type": "display_data",
          "data": {
            "image/png": "[encoded data removed]",
            "text/plain": [
              "<Figure size 474.375x432 with 1 Axes>"
            ]
          },
          "metadata": {
            "needs_background": "light"
          }
        }
      ]
    },
    {
      "cell_type": "markdown",
      "metadata": {
        "id": "buwEhHTRaQFK"
      },
      "source": [
        "## Scatter Plot for Age and Resting Blood Pressure"
      ]
    },
    {
      "cell_type": "code",
      "metadata": {
        "colab": {
          "base_uri": "https://localhost:8080/",
          "height": 297
        },
        "id": "0jHl-NvXaW7G",
        "outputId": "50de9f44-e501-4a68-b007-9830b006476c"
      },
      "source": [
        "plt.scatter(df['Age'],df['Resting Blood Pressure'])\n",
        "plt.xlabel('Age')\n",
        "plt.ylabel('Resting Blood Pressure')"
      ],
      "execution_count": 248,
      "outputs": [
        {
          "output_type": "execute_result",
          "data": {
            "text/plain": [
              "Text(0, 0.5, 'Resting Blood Pressure')"
            ]
          },
          "metadata": {},
          "execution_count": 248
        },
        {
          "output_type": "display_data",
          "data": {
            "image/png": "[encoded data removed]",
            "text/plain": [
              "<Figure size 432x288 with 1 Axes>"
            ]
          },
          "metadata": {
            "needs_background": "light"
          }
        }
      ]
    },
    {
      "cell_type": "markdown",
      "metadata": {
        "id": "HGhn7xs7oNFz"
      },
      "source": [
        "## Clustering with reference to Age and Resting Blood Pressure (SciKit)\n"
      ]
    },
    {
      "cell_type": "code",
      "metadata": {
        "colab": {
          "base_uri": "https://localhost:8080/",
          "height": 383
        },
        "id": "xgWoxsBYn_xk",
        "outputId": "b8fe82fa-e9f7-45e8-87dc-39f237160545"
      },
      "source": [
        "k_means_clustering_scikit(df['Age'], df['Resting Blood Pressure'])"
      ],
      "execution_count": 249,
      "outputs": [
        {
          "output_type": "display_data",
          "data": {
            "image/png": "[encoded data removed]",
            "text/plain": [
              "<Figure size 402.375x360 with 1 Axes>"
            ]
          },
          "metadata": {
            "needs_background": "light"
          }
        }
      ]
    },
    {
      "cell_type": "markdown",
      "metadata": {
        "id": "B160qeNFd2Ww"
      },
      "source": [
        "## Clustering with reference to Age and Resting Blood Pressure (TensorFlow)\n"
      ]
    },
    {
      "cell_type": "code",
      "metadata": {
        "colab": {
          "base_uri": "https://localhost:8080/",
          "height": 1000
        },
        "id": "7pzUs3RJeHd4",
        "outputId": "62f2f8e9-7d3b-4713-debb-930b30915f81"
      },
      "source": [
        "k_means_clustering_tensorflow(df['Age'], df['Resting Blood Pressure'], 6)"
      ],
      "execution_count": 250,
      "outputs": [
        {
          "output_type": "stream",
          "name": "stdout",
          "text": [
            "INFO:tensorflow:Using default config.\n",
            "WARNING:tensorflow:Using temporary folder as model directory: /tmp/tmp01mtr_0t\n",
            "INFO:tensorflow:Using config: {'_model_dir': '/tmp/tmp01mtr_0t', '_tf_random_seed': None, '_save_summary_steps': 100, '_save_checkpoints_steps': None, '_save_checkpoints_secs': 600, '_session_config': allow_soft_placement: true\n",
            "graph_options {\n",
            "  rewrite_options {\n",
            "    meta_optimizer_iterations: ONE\n",
            "  }\n",
            "}\n",
            ", '_keep_checkpoint_max': 5, '_keep_checkpoint_every_n_hours': 10000, '_log_step_count_steps': 100, '_train_distribute': None, '_device_fn': None, '_protocol': None, '_eval_distribute': None, '_experimental_distribute': None, '_experimental_max_worker_delay_secs': None, '_session_creation_timeout_secs': 7200, '_checkpoint_save_graph_def': True, '_service': None, '_cluster_spec': ClusterSpec({}), '_task_type': 'worker', '_task_id': 0, '_global_id_in_cluster': 0, '_master': '', '_evaluation_master': '', '_is_chief': True, '_num_ps_replicas': 0, '_num_worker_replicas': 1}\n",
            "INFO:tensorflow:Calling model_fn.\n",
            "INFO:tensorflow:Done calling model_fn.\n",
            "INFO:tensorflow:Create CheckpointSaverHook.\n",
            "INFO:tensorflow:Graph was finalized.\n",
            "INFO:tensorflow:Running local_init_op.\n",
            "INFO:tensorflow:Done running local_init_op.\n",
            "INFO:tensorflow:Calling checkpoint listeners before saving checkpoint 0...\n",
            "INFO:tensorflow:Saving checkpoints for 0 into /tmp/tmp01mtr_0t/model.ckpt.\n",
            "INFO:tensorflow:Calling checkpoint listeners after saving checkpoint 0...\n",
            "INFO:tensorflow:Calling checkpoint listeners before saving checkpoint 1...\n",
            "INFO:tensorflow:Saving checkpoints for 1 into /tmp/tmp01mtr_0t/model.ckpt.\n",
            "INFO:tensorflow:Calling checkpoint listeners after saving checkpoint 1...\n",
            "INFO:tensorflow:Loss for final step: None.\n",
            "INFO:tensorflow:Calling model_fn.\n",
            "INFO:tensorflow:Done calling model_fn.\n",
            "INFO:tensorflow:Create CheckpointSaverHook.\n",
            "INFO:tensorflow:Graph was finalized.\n",
            "INFO:tensorflow:Restoring parameters from /tmp/tmp01mtr_0t/model.ckpt-1\n",
            "INFO:tensorflow:Running local_init_op.\n",
            "INFO:tensorflow:Done running local_init_op.\n",
            "INFO:tensorflow:Calling checkpoint listeners before saving checkpoint 1...\n",
            "INFO:tensorflow:Saving checkpoints for 1 into /tmp/tmp01mtr_0t/model.ckpt.\n",
            "INFO:tensorflow:Calling checkpoint listeners after saving checkpoint 1...\n",
            "INFO:tensorflow:loss = 38459.0, step = 1\n",
            "INFO:tensorflow:Calling checkpoint listeners before saving checkpoint 3...\n",
            "INFO:tensorflow:Saving checkpoints for 3 into /tmp/tmp01mtr_0t/model.ckpt.\n",
            "INFO:tensorflow:Calling checkpoint listeners after saving checkpoint 3...\n",
            "INFO:tensorflow:Loss for final step: 38459.0.\n",
            "INFO:tensorflow:Calling model_fn.\n",
            "INFO:tensorflow:Done calling model_fn.\n",
            "INFO:tensorflow:Create CheckpointSaverHook.\n",
            "INFO:tensorflow:Graph was finalized.\n",
            "INFO:tensorflow:Restoring parameters from /tmp/tmp01mtr_0t/model.ckpt-3\n",
            "INFO:tensorflow:Running local_init_op.\n",
            "INFO:tensorflow:Done running local_init_op.\n",
            "INFO:tensorflow:Calling checkpoint listeners before saving checkpoint 3...\n",
            "INFO:tensorflow:Saving checkpoints for 3 into /tmp/tmp01mtr_0t/model.ckpt.\n",
            "INFO:tensorflow:Calling checkpoint listeners after saving checkpoint 3...\n",
            "INFO:tensorflow:loss = 21431.385, step = 3\n",
            "INFO:tensorflow:Calling checkpoint listeners before saving checkpoint 5...\n",
            "INFO:tensorflow:Saving checkpoints for 5 into /tmp/tmp01mtr_0t/model.ckpt.\n",
            "INFO:tensorflow:Calling checkpoint listeners after saving checkpoint 5...\n",
            "INFO:tensorflow:Loss for final step: 21431.385.\n",
            "INFO:tensorflow:Calling model_fn.\n",
            "INFO:tensorflow:Done calling model_fn.\n",
            "INFO:tensorflow:Create CheckpointSaverHook.\n",
            "INFO:tensorflow:Graph was finalized.\n",
            "INFO:tensorflow:Restoring parameters from /tmp/tmp01mtr_0t/model.ckpt-5\n",
            "INFO:tensorflow:Running local_init_op.\n",
            "INFO:tensorflow:Done running local_init_op.\n",
            "INFO:tensorflow:Calling checkpoint listeners before saving checkpoint 5...\n",
            "INFO:tensorflow:Saving checkpoints for 5 into /tmp/tmp01mtr_0t/model.ckpt.\n",
            "INFO:tensorflow:Calling checkpoint listeners after saving checkpoint 5...\n",
            "INFO:tensorflow:loss = 20476.902, step = 5\n",
            "INFO:tensorflow:Calling checkpoint listeners before saving checkpoint 7...\n",
            "INFO:tensorflow:Saving checkpoints for 7 into /tmp/tmp01mtr_0t/model.ckpt.\n",
            "INFO:tensorflow:Calling checkpoint listeners after saving checkpoint 7...\n",
            "INFO:tensorflow:Loss for final step: 20476.902.\n",
            "INFO:tensorflow:Calling model_fn.\n",
            "INFO:tensorflow:Done calling model_fn.\n",
            "INFO:tensorflow:Create CheckpointSaverHook.\n",
            "INFO:tensorflow:Graph was finalized.\n",
            "INFO:tensorflow:Restoring parameters from /tmp/tmp01mtr_0t/model.ckpt-7\n",
            "INFO:tensorflow:Running local_init_op.\n",
            "INFO:tensorflow:Done running local_init_op.\n",
            "INFO:tensorflow:Calling checkpoint listeners before saving checkpoint 7...\n",
            "INFO:tensorflow:Saving checkpoints for 7 into /tmp/tmp01mtr_0t/model.ckpt.\n",
            "INFO:tensorflow:Calling checkpoint listeners after saving checkpoint 7...\n",
            "INFO:tensorflow:loss = 20433.719, step = 7\n",
            "INFO:tensorflow:Calling checkpoint listeners before saving checkpoint 9...\n",
            "INFO:tensorflow:Saving checkpoints for 9 into /tmp/tmp01mtr_0t/model.ckpt.\n",
            "INFO:tensorflow:Calling checkpoint listeners after saving checkpoint 9...\n",
            "INFO:tensorflow:Loss for final step: 20433.719.\n",
            "INFO:tensorflow:Calling model_fn.\n",
            "INFO:tensorflow:Done calling model_fn.\n",
            "INFO:tensorflow:Create CheckpointSaverHook.\n",
            "INFO:tensorflow:Graph was finalized.\n",
            "INFO:tensorflow:Restoring parameters from /tmp/tmp01mtr_0t/model.ckpt-9\n",
            "INFO:tensorflow:Running local_init_op.\n",
            "INFO:tensorflow:Done running local_init_op.\n",
            "INFO:tensorflow:Calling checkpoint listeners before saving checkpoint 9...\n",
            "INFO:tensorflow:Saving checkpoints for 9 into /tmp/tmp01mtr_0t/model.ckpt.\n",
            "INFO:tensorflow:Calling checkpoint listeners after saving checkpoint 9...\n",
            "INFO:tensorflow:loss = 20412.799, step = 9\n",
            "INFO:tensorflow:Calling checkpoint listeners before saving checkpoint 11...\n",
            "INFO:tensorflow:Saving checkpoints for 11 into /tmp/tmp01mtr_0t/model.ckpt.\n",
            "INFO:tensorflow:Calling checkpoint listeners after saving checkpoint 11...\n",
            "INFO:tensorflow:Loss for final step: 20412.799.\n",
            "INFO:tensorflow:Calling model_fn.\n",
            "INFO:tensorflow:Done calling model_fn.\n",
            "INFO:tensorflow:Create CheckpointSaverHook.\n",
            "INFO:tensorflow:Graph was finalized.\n",
            "INFO:tensorflow:Restoring parameters from /tmp/tmp01mtr_0t/model.ckpt-11\n",
            "INFO:tensorflow:Running local_init_op.\n",
            "INFO:tensorflow:Done running local_init_op.\n",
            "INFO:tensorflow:Calling checkpoint listeners before saving checkpoint 11...\n",
            "INFO:tensorflow:Saving checkpoints for 11 into /tmp/tmp01mtr_0t/model.ckpt.\n",
            "INFO:tensorflow:Calling checkpoint listeners after saving checkpoint 11...\n",
            "INFO:tensorflow:loss = 20412.799, step = 11\n",
            "INFO:tensorflow:Calling checkpoint listeners before saving checkpoint 13...\n",
            "INFO:tensorflow:Saving checkpoints for 13 into /tmp/tmp01mtr_0t/model.ckpt.\n",
            "INFO:tensorflow:Calling checkpoint listeners after saving checkpoint 13...\n",
            "INFO:tensorflow:Loss for final step: 20412.799.\n",
            "INFO:tensorflow:Calling model_fn.\n",
            "INFO:tensorflow:Done calling model_fn.\n",
            "INFO:tensorflow:Create CheckpointSaverHook.\n",
            "INFO:tensorflow:Graph was finalized.\n",
            "INFO:tensorflow:Restoring parameters from /tmp/tmp01mtr_0t/model.ckpt-13\n",
            "INFO:tensorflow:Running local_init_op.\n",
            "INFO:tensorflow:Done running local_init_op.\n",
            "INFO:tensorflow:Calling checkpoint listeners before saving checkpoint 13...\n",
            "INFO:tensorflow:Saving checkpoints for 13 into /tmp/tmp01mtr_0t/model.ckpt.\n",
            "INFO:tensorflow:Calling checkpoint listeners after saving checkpoint 13...\n",
            "INFO:tensorflow:loss = 20412.799, step = 13\n",
            "INFO:tensorflow:Calling checkpoint listeners before saving checkpoint 15...\n",
            "INFO:tensorflow:Saving checkpoints for 15 into /tmp/tmp01mtr_0t/model.ckpt.\n",
            "INFO:tensorflow:Calling checkpoint listeners after saving checkpoint 15...\n",
            "INFO:tensorflow:Loss for final step: 20412.799.\n",
            "INFO:tensorflow:Calling model_fn.\n",
            "INFO:tensorflow:Done calling model_fn.\n",
            "INFO:tensorflow:Create CheckpointSaverHook.\n",
            "INFO:tensorflow:Graph was finalized.\n",
            "INFO:tensorflow:Restoring parameters from /tmp/tmp01mtr_0t/model.ckpt-15\n",
            "INFO:tensorflow:Running local_init_op.\n",
            "INFO:tensorflow:Done running local_init_op.\n",
            "INFO:tensorflow:Calling checkpoint listeners before saving checkpoint 15...\n",
            "INFO:tensorflow:Saving checkpoints for 15 into /tmp/tmp01mtr_0t/model.ckpt.\n",
            "INFO:tensorflow:Calling checkpoint listeners after saving checkpoint 15...\n",
            "INFO:tensorflow:loss = 20412.799, step = 15\n",
            "INFO:tensorflow:Calling checkpoint listeners before saving checkpoint 17...\n",
            "INFO:tensorflow:Saving checkpoints for 17 into /tmp/tmp01mtr_0t/model.ckpt.\n",
            "INFO:tensorflow:Calling checkpoint listeners after saving checkpoint 17...\n",
            "INFO:tensorflow:Loss for final step: 20412.799.\n",
            "INFO:tensorflow:Calling model_fn.\n",
            "INFO:tensorflow:Done calling model_fn.\n",
            "INFO:tensorflow:Create CheckpointSaverHook.\n",
            "INFO:tensorflow:Graph was finalized.\n",
            "INFO:tensorflow:Restoring parameters from /tmp/tmp01mtr_0t/model.ckpt-17\n",
            "INFO:tensorflow:Running local_init_op.\n",
            "INFO:tensorflow:Done running local_init_op.\n",
            "INFO:tensorflow:Calling checkpoint listeners before saving checkpoint 17...\n",
            "INFO:tensorflow:Saving checkpoints for 17 into /tmp/tmp01mtr_0t/model.ckpt.\n",
            "INFO:tensorflow:Calling checkpoint listeners after saving checkpoint 17...\n",
            "INFO:tensorflow:loss = 20412.799, step = 17\n",
            "INFO:tensorflow:Calling checkpoint listeners before saving checkpoint 19...\n",
            "INFO:tensorflow:Saving checkpoints for 19 into /tmp/tmp01mtr_0t/model.ckpt.\n",
            "INFO:tensorflow:Calling checkpoint listeners after saving checkpoint 19...\n",
            "INFO:tensorflow:Loss for final step: 20412.799.\n",
            "WARNING:tensorflow:Input graph does not use tf.data.Dataset or contain a QueueRunner. That means predict yields forever. This is probably a mistake.\n",
            "INFO:tensorflow:Calling model_fn.\n",
            "INFO:tensorflow:Done calling model_fn.\n",
            "INFO:tensorflow:Graph was finalized.\n",
            "INFO:tensorflow:Restoring parameters from /tmp/tmp01mtr_0t/model.ckpt-19\n",
            "INFO:tensorflow:Running local_init_op.\n",
            "INFO:tensorflow:Done running local_init_op.\n"
          ]
        },
        {
          "output_type": "stream",
          "name": "stderr",
          "text": [
            "/usr/local/lib/python3.7/dist-packages/seaborn/_decorators.py:43: FutureWarning: Pass the following variables as keyword args: x, y. From version 0.12, the only valid positional argument will be `data`, and passing other arguments without an explicit keyword will result in an error or misinterpretation.\n",
            "  FutureWarning\n"
          ]
        },
        {
          "output_type": "display_data",
          "data": {
            "image/png": "[encoded data removed]",
            "text/plain": [
              "<Figure size 474.375x432 with 1 Axes>"
            ]
          },
          "metadata": {
            "needs_background": "light"
          }
        }
      ]
    },
    {
      "cell_type": "markdown",
      "metadata": {
        "id": "6tcpPBeOaeV_"
      },
      "source": [
        "## Scatter Plot for Age and Max Heart Beats"
      ]
    },
    {
      "cell_type": "code",
      "metadata": {
        "colab": {
          "base_uri": "https://localhost:8080/",
          "height": 297
        },
        "id": "L50HEXqEamRl",
        "outputId": "89481e32-bf95-48bf-f2ea-226836e2ed2a"
      },
      "source": [
        "plt.scatter(df['Age'],df['Max Heart Beats'])\n",
        "plt.xlabel('Age')\n",
        "plt.ylabel('Max Heart Beats')"
      ],
      "execution_count": 251,
      "outputs": [
        {
          "output_type": "execute_result",
          "data": {
            "text/plain": [
              "Text(0, 0.5, 'Max Heart Beats')"
            ]
          },
          "metadata": {},
          "execution_count": 251
        },
        {
          "output_type": "display_data",
          "data": {
            "image/png": "[encoded data removed]",
            "text/plain": [
              "<Figure size 432x288 with 1 Axes>"
            ]
          },
          "metadata": {
            "needs_background": "light"
          }
        }
      ]
    },
    {
      "cell_type": "markdown",
      "metadata": {
        "id": "6Rq6ttRfZpZs"
      },
      "source": [
        "## Clustering with reference to Age and Maximum Heart Beats (SciKit)\n"
      ]
    },
    {
      "cell_type": "code",
      "metadata": {
        "colab": {
          "base_uri": "https://localhost:8080/",
          "height": 383
        },
        "id": "PPVaZ9LloB0w",
        "outputId": "6ae9ff22-b767-47f9-a29c-fb2c2932c4fe"
      },
      "source": [
        "k_means_clustering_scikit(df['Age'], df['Max Heart Beats'])"
      ],
      "execution_count": 252,
      "outputs": [
        {
          "output_type": "display_data",
          "data": {
            "image/png": "[encoded data removed]",
            "text/plain": [
              "<Figure size 402.375x360 with 1 Axes>"
            ]
          },
          "metadata": {
            "needs_background": "light"
          }
        }
      ]
    },
    {
      "cell_type": "markdown",
      "metadata": {
        "id": "vvmWTPjwefX5"
      },
      "source": [
        "## Clustering with reference to Age and Maximum Heart Beats (TensorFlow)\n"
      ]
    },
    {
      "cell_type": "code",
      "metadata": {
        "colab": {
          "base_uri": "https://localhost:8080/",
          "height": 1000
        },
        "id": "GjE9ufSGeruT",
        "outputId": "990cf858-8c25-4913-f5b6-f1439204bf5b"
      },
      "source": [
        "k_means_clustering_tensorflow(df['Age'], df['Max Heart Beats'], 6)"
      ],
      "execution_count": 253,
      "outputs": [
        {
          "output_type": "stream",
          "name": "stdout",
          "text": [
            "INFO:tensorflow:Using default config.\n",
            "WARNING:tensorflow:Using temporary folder as model directory: /tmp/tmpove0tjoq\n",
            "INFO:tensorflow:Using config: {'_model_dir': '/tmp/tmpove0tjoq', '_tf_random_seed': None, '_save_summary_steps': 100, '_save_checkpoints_steps': None, '_save_checkpoints_secs': 600, '_session_config': allow_soft_placement: true\n",
            "graph_options {\n",
            "  rewrite_options {\n",
            "    meta_optimizer_iterations: ONE\n",
            "  }\n",
            "}\n",
            ", '_keep_checkpoint_max': 5, '_keep_checkpoint_every_n_hours': 10000, '_log_step_count_steps': 100, '_train_distribute': None, '_device_fn': None, '_protocol': None, '_eval_distribute': None, '_experimental_distribute': None, '_experimental_max_worker_delay_secs': None, '_session_creation_timeout_secs': 7200, '_checkpoint_save_graph_def': True, '_service': None, '_cluster_spec': ClusterSpec({}), '_task_type': 'worker', '_task_id': 0, '_global_id_in_cluster': 0, '_master': '', '_evaluation_master': '', '_is_chief': True, '_num_ps_replicas': 0, '_num_worker_replicas': 1}\n",
            "INFO:tensorflow:Calling model_fn.\n",
            "INFO:tensorflow:Done calling model_fn.\n",
            "INFO:tensorflow:Create CheckpointSaverHook.\n",
            "INFO:tensorflow:Graph was finalized.\n",
            "INFO:tensorflow:Running local_init_op.\n",
            "INFO:tensorflow:Done running local_init_op.\n",
            "INFO:tensorflow:Calling checkpoint listeners before saving checkpoint 0...\n",
            "INFO:tensorflow:Saving checkpoints for 0 into /tmp/tmpove0tjoq/model.ckpt.\n",
            "INFO:tensorflow:Calling checkpoint listeners after saving checkpoint 0...\n",
            "INFO:tensorflow:Calling checkpoint listeners before saving checkpoint 1...\n",
            "INFO:tensorflow:Saving checkpoints for 1 into /tmp/tmpove0tjoq/model.ckpt.\n",
            "INFO:tensorflow:Calling checkpoint listeners after saving checkpoint 1...\n",
            "INFO:tensorflow:Loss for final step: None.\n",
            "INFO:tensorflow:Calling model_fn.\n",
            "INFO:tensorflow:Done calling model_fn.\n",
            "INFO:tensorflow:Create CheckpointSaverHook.\n",
            "INFO:tensorflow:Graph was finalized.\n",
            "INFO:tensorflow:Restoring parameters from /tmp/tmpove0tjoq/model.ckpt-1\n",
            "INFO:tensorflow:Running local_init_op.\n",
            "INFO:tensorflow:Done running local_init_op.\n",
            "INFO:tensorflow:Calling checkpoint listeners before saving checkpoint 1...\n",
            "INFO:tensorflow:Saving checkpoints for 1 into /tmp/tmpove0tjoq/model.ckpt.\n",
            "INFO:tensorflow:Calling checkpoint listeners after saving checkpoint 1...\n",
            "INFO:tensorflow:loss = 120457.0, step = 1\n",
            "INFO:tensorflow:Calling checkpoint listeners before saving checkpoint 3...\n",
            "INFO:tensorflow:Saving checkpoints for 3 into /tmp/tmpove0tjoq/model.ckpt.\n",
            "INFO:tensorflow:Calling checkpoint listeners after saving checkpoint 3...\n",
            "INFO:tensorflow:Loss for final step: 120457.0.\n",
            "INFO:tensorflow:Calling model_fn.\n",
            "INFO:tensorflow:Done calling model_fn.\n",
            "INFO:tensorflow:Create CheckpointSaverHook.\n",
            "INFO:tensorflow:Graph was finalized.\n",
            "INFO:tensorflow:Restoring parameters from /tmp/tmpove0tjoq/model.ckpt-3\n",
            "INFO:tensorflow:Running local_init_op.\n",
            "INFO:tensorflow:Done running local_init_op.\n",
            "INFO:tensorflow:Calling checkpoint listeners before saving checkpoint 3...\n",
            "INFO:tensorflow:Saving checkpoints for 3 into /tmp/tmpove0tjoq/model.ckpt.\n",
            "INFO:tensorflow:Calling checkpoint listeners after saving checkpoint 3...\n",
            "INFO:tensorflow:loss = 40019.797, step = 3\n",
            "INFO:tensorflow:Calling checkpoint listeners before saving checkpoint 5...\n",
            "INFO:tensorflow:Saving checkpoints for 5 into /tmp/tmpove0tjoq/model.ckpt.\n",
            "INFO:tensorflow:Calling checkpoint listeners after saving checkpoint 5...\n",
            "INFO:tensorflow:Loss for final step: 40019.797.\n",
            "INFO:tensorflow:Calling model_fn.\n",
            "INFO:tensorflow:Done calling model_fn.\n",
            "INFO:tensorflow:Create CheckpointSaverHook.\n",
            "INFO:tensorflow:Graph was finalized.\n",
            "INFO:tensorflow:Restoring parameters from /tmp/tmpove0tjoq/model.ckpt-5\n",
            "INFO:tensorflow:Running local_init_op.\n",
            "INFO:tensorflow:Done running local_init_op.\n",
            "INFO:tensorflow:Calling checkpoint listeners before saving checkpoint 5...\n",
            "INFO:tensorflow:Saving checkpoints for 5 into /tmp/tmpove0tjoq/model.ckpt.\n",
            "INFO:tensorflow:Calling checkpoint listeners after saving checkpoint 5...\n",
            "INFO:tensorflow:loss = 31701.727, step = 5\n",
            "INFO:tensorflow:Calling checkpoint listeners before saving checkpoint 7...\n",
            "INFO:tensorflow:Saving checkpoints for 7 into /tmp/tmpove0tjoq/model.ckpt.\n",
            "INFO:tensorflow:Calling checkpoint listeners after saving checkpoint 7...\n",
            "INFO:tensorflow:Loss for final step: 31701.727.\n",
            "INFO:tensorflow:Calling model_fn.\n",
            "INFO:tensorflow:Done calling model_fn.\n",
            "INFO:tensorflow:Create CheckpointSaverHook.\n",
            "INFO:tensorflow:Graph was finalized.\n",
            "INFO:tensorflow:Restoring parameters from /tmp/tmpove0tjoq/model.ckpt-7\n",
            "INFO:tensorflow:Running local_init_op.\n",
            "INFO:tensorflow:Done running local_init_op.\n",
            "INFO:tensorflow:Calling checkpoint listeners before saving checkpoint 7...\n",
            "INFO:tensorflow:Saving checkpoints for 7 into /tmp/tmpove0tjoq/model.ckpt.\n",
            "INFO:tensorflow:Calling checkpoint listeners after saving checkpoint 7...\n",
            "INFO:tensorflow:loss = 28980.645, step = 7\n",
            "INFO:tensorflow:Calling checkpoint listeners before saving checkpoint 9...\n",
            "INFO:tensorflow:Saving checkpoints for 9 into /tmp/tmpove0tjoq/model.ckpt.\n",
            "INFO:tensorflow:Calling checkpoint listeners after saving checkpoint 9...\n",
            "INFO:tensorflow:Loss for final step: 28980.645.\n",
            "INFO:tensorflow:Calling model_fn.\n",
            "INFO:tensorflow:Done calling model_fn.\n",
            "INFO:tensorflow:Create CheckpointSaverHook.\n",
            "INFO:tensorflow:Graph was finalized.\n",
            "INFO:tensorflow:Restoring parameters from /tmp/tmpove0tjoq/model.ckpt-9\n",
            "INFO:tensorflow:Running local_init_op.\n",
            "INFO:tensorflow:Done running local_init_op.\n",
            "INFO:tensorflow:Calling checkpoint listeners before saving checkpoint 9...\n",
            "INFO:tensorflow:Saving checkpoints for 9 into /tmp/tmpove0tjoq/model.ckpt.\n",
            "INFO:tensorflow:Calling checkpoint listeners after saving checkpoint 9...\n",
            "INFO:tensorflow:loss = 27087.938, step = 9\n",
            "INFO:tensorflow:Calling checkpoint listeners before saving checkpoint 11...\n",
            "INFO:tensorflow:Saving checkpoints for 11 into /tmp/tmpove0tjoq/model.ckpt.\n",
            "INFO:tensorflow:Calling checkpoint listeners after saving checkpoint 11...\n",
            "INFO:tensorflow:Loss for final step: 27087.938.\n",
            "INFO:tensorflow:Calling model_fn.\n",
            "INFO:tensorflow:Done calling model_fn.\n",
            "INFO:tensorflow:Create CheckpointSaverHook.\n",
            "INFO:tensorflow:Graph was finalized.\n",
            "INFO:tensorflow:Restoring parameters from /tmp/tmpove0tjoq/model.ckpt-11\n",
            "INFO:tensorflow:Running local_init_op.\n",
            "INFO:tensorflow:Done running local_init_op.\n",
            "INFO:tensorflow:Calling checkpoint listeners before saving checkpoint 11...\n",
            "INFO:tensorflow:Saving checkpoints for 11 into /tmp/tmpove0tjoq/model.ckpt.\n",
            "INFO:tensorflow:Calling checkpoint listeners after saving checkpoint 11...\n",
            "INFO:tensorflow:loss = 26396.465, step = 11\n",
            "INFO:tensorflow:Calling checkpoint listeners before saving checkpoint 13...\n",
            "INFO:tensorflow:Saving checkpoints for 13 into /tmp/tmpove0tjoq/model.ckpt.\n",
            "INFO:tensorflow:Calling checkpoint listeners after saving checkpoint 13...\n",
            "INFO:tensorflow:Loss for final step: 26396.465.\n",
            "INFO:tensorflow:Calling model_fn.\n",
            "INFO:tensorflow:Done calling model_fn.\n",
            "INFO:tensorflow:Create CheckpointSaverHook.\n",
            "INFO:tensorflow:Graph was finalized.\n",
            "INFO:tensorflow:Restoring parameters from /tmp/tmpove0tjoq/model.ckpt-13\n",
            "INFO:tensorflow:Running local_init_op.\n",
            "INFO:tensorflow:Done running local_init_op.\n",
            "INFO:tensorflow:Calling checkpoint listeners before saving checkpoint 13...\n",
            "INFO:tensorflow:Saving checkpoints for 13 into /tmp/tmpove0tjoq/model.ckpt.\n",
            "INFO:tensorflow:Calling checkpoint listeners after saving checkpoint 13...\n",
            "INFO:tensorflow:loss = 25881.17, step = 13\n",
            "INFO:tensorflow:Calling checkpoint listeners before saving checkpoint 15...\n",
            "INFO:tensorflow:Saving checkpoints for 15 into /tmp/tmpove0tjoq/model.ckpt.\n",
            "INFO:tensorflow:Calling checkpoint listeners after saving checkpoint 15...\n",
            "INFO:tensorflow:Loss for final step: 25881.17.\n",
            "INFO:tensorflow:Calling model_fn.\n",
            "INFO:tensorflow:Done calling model_fn.\n",
            "INFO:tensorflow:Create CheckpointSaverHook.\n",
            "INFO:tensorflow:Graph was finalized.\n",
            "INFO:tensorflow:Restoring parameters from /tmp/tmpove0tjoq/model.ckpt-15\n",
            "INFO:tensorflow:Running local_init_op.\n",
            "INFO:tensorflow:Done running local_init_op.\n",
            "INFO:tensorflow:Calling checkpoint listeners before saving checkpoint 15...\n",
            "INFO:tensorflow:Saving checkpoints for 15 into /tmp/tmpove0tjoq/model.ckpt.\n",
            "INFO:tensorflow:Calling checkpoint listeners after saving checkpoint 15...\n",
            "INFO:tensorflow:loss = 25510.877, step = 15\n",
            "INFO:tensorflow:Calling checkpoint listeners before saving checkpoint 17...\n",
            "INFO:tensorflow:Saving checkpoints for 17 into /tmp/tmpove0tjoq/model.ckpt.\n",
            "INFO:tensorflow:Calling checkpoint listeners after saving checkpoint 17...\n",
            "INFO:tensorflow:Loss for final step: 25510.877.\n",
            "INFO:tensorflow:Calling model_fn.\n",
            "INFO:tensorflow:Done calling model_fn.\n",
            "INFO:tensorflow:Create CheckpointSaverHook.\n",
            "INFO:tensorflow:Graph was finalized.\n",
            "INFO:tensorflow:Restoring parameters from /tmp/tmpove0tjoq/model.ckpt-17\n",
            "INFO:tensorflow:Running local_init_op.\n",
            "INFO:tensorflow:Done running local_init_op.\n",
            "INFO:tensorflow:Calling checkpoint listeners before saving checkpoint 17...\n",
            "INFO:tensorflow:Saving checkpoints for 17 into /tmp/tmpove0tjoq/model.ckpt.\n",
            "INFO:tensorflow:Calling checkpoint listeners after saving checkpoint 17...\n",
            "INFO:tensorflow:loss = 25117.326, step = 17\n",
            "INFO:tensorflow:Calling checkpoint listeners before saving checkpoint 19...\n",
            "INFO:tensorflow:Saving checkpoints for 19 into /tmp/tmpove0tjoq/model.ckpt.\n",
            "INFO:tensorflow:Calling checkpoint listeners after saving checkpoint 19...\n",
            "INFO:tensorflow:Loss for final step: 25117.326.\n",
            "WARNING:tensorflow:Input graph does not use tf.data.Dataset or contain a QueueRunner. That means predict yields forever. This is probably a mistake.\n",
            "INFO:tensorflow:Calling model_fn.\n",
            "INFO:tensorflow:Done calling model_fn.\n",
            "INFO:tensorflow:Graph was finalized.\n",
            "INFO:tensorflow:Restoring parameters from /tmp/tmpove0tjoq/model.ckpt-19\n",
            "INFO:tensorflow:Running local_init_op.\n",
            "INFO:tensorflow:Done running local_init_op.\n"
          ]
        },
        {
          "output_type": "stream",
          "name": "stderr",
          "text": [
            "/usr/local/lib/python3.7/dist-packages/seaborn/_decorators.py:43: FutureWarning: Pass the following variables as keyword args: x, y. From version 0.12, the only valid positional argument will be `data`, and passing other arguments without an explicit keyword will result in an error or misinterpretation.\n",
            "  FutureWarning\n"
          ]
        },
        {
          "output_type": "display_data",
          "data": {
            "image/png": "[encoded data removed]",
            "text/plain": [
              "<Figure size 474.375x432 with 1 Axes>"
            ]
          },
          "metadata": {
            "needs_background": "light"
          }
        }
      ]
    },
    {
      "cell_type": "markdown",
      "metadata": {
        "id": "We4z6p0FasIC"
      },
      "source": [
        "## Scatter Plot for Age and ST Depression"
      ]
    },
    {
      "cell_type": "code",
      "metadata": {
        "colab": {
          "base_uri": "https://localhost:8080/",
          "height": 297
        },
        "id": "sxwpfcEFa52J",
        "outputId": "7bd3a36e-4516-445f-8c47-706f4d800f29"
      },
      "source": [
        "plt.scatter(df['Age'],df['ST Depression'])\n",
        "plt.xlabel('Age')\n",
        "plt.ylabel('ST Depression')"
      ],
      "execution_count": 254,
      "outputs": [
        {
          "output_type": "execute_result",
          "data": {
            "text/plain": [
              "Text(0, 0.5, 'ST Depression')"
            ]
          },
          "metadata": {},
          "execution_count": 254
        },
        {
          "output_type": "display_data",
          "data": {
            "image/png": "[encoded data removed]",
            "text/plain": [
              "<Figure size 432x288 with 1 Axes>"
            ]
          },
          "metadata": {
            "needs_background": "light"
          }
        }
      ]
    },
    {
      "cell_type": "markdown",
      "metadata": {
        "id": "rtPxTEvzZuTL"
      },
      "source": [
        "## Clustering with reference to Age and ST Depression (SciKit)\n"
      ]
    },
    {
      "cell_type": "code",
      "metadata": {
        "colab": {
          "base_uri": "https://localhost:8080/",
          "height": 383
        },
        "id": "BecDmMWioDYA",
        "outputId": "c89c3e59-0e61-4c6a-e764-ab0797f3086a"
      },
      "source": [
        "k_means_clustering_scikit(df['Age'], df['ST Depression'])"
      ],
      "execution_count": 255,
      "outputs": [
        {
          "output_type": "display_data",
          "data": {
            "image/png": "[encoded data removed]",
            "text/plain": [
              "<Figure size 402.375x360 with 1 Axes>"
            ]
          },
          "metadata": {
            "needs_background": "light"
          }
        }
      ]
    },
    {
      "cell_type": "markdown",
      "metadata": {
        "id": "6e4CNqF7e7pf"
      },
      "source": [
        "## Clustering with reference to Age and ST Depression (TensorFlow)\n"
      ]
    },
    {
      "cell_type": "code",
      "metadata": {
        "colab": {
          "base_uri": "https://localhost:8080/",
          "height": 1000
        },
        "id": "SbN7YYvPfD-O",
        "outputId": "22d3b77e-6310-4619-a28c-ae212694eff8"
      },
      "source": [
        "k_means_clustering_tensorflow(df['Age'], df['ST Depression'], 6)"
      ],
      "execution_count": 256,
      "outputs": [
        {
          "output_type": "stream",
          "name": "stdout",
          "text": [
            "INFO:tensorflow:Using default config.\n",
            "WARNING:tensorflow:Using temporary folder as model directory: /tmp/tmpctrghf0z\n",
            "INFO:tensorflow:Using config: {'_model_dir': '/tmp/tmpctrghf0z', '_tf_random_seed': None, '_save_summary_steps': 100, '_save_checkpoints_steps': None, '_save_checkpoints_secs': 600, '_session_config': allow_soft_placement: true\n",
            "graph_options {\n",
            "  rewrite_options {\n",
            "    meta_optimizer_iterations: ONE\n",
            "  }\n",
            "}\n",
            ", '_keep_checkpoint_max': 5, '_keep_checkpoint_every_n_hours': 10000, '_log_step_count_steps': 100, '_train_distribute': None, '_device_fn': None, '_protocol': None, '_eval_distribute': None, '_experimental_distribute': None, '_experimental_max_worker_delay_secs': None, '_session_creation_timeout_secs': 7200, '_checkpoint_save_graph_def': True, '_service': None, '_cluster_spec': ClusterSpec({}), '_task_type': 'worker', '_task_id': 0, '_global_id_in_cluster': 0, '_master': '', '_evaluation_master': '', '_is_chief': True, '_num_ps_replicas': 0, '_num_worker_replicas': 1}\n",
            "INFO:tensorflow:Calling model_fn.\n",
            "INFO:tensorflow:Done calling model_fn.\n",
            "INFO:tensorflow:Create CheckpointSaverHook.\n",
            "INFO:tensorflow:Graph was finalized.\n",
            "INFO:tensorflow:Running local_init_op.\n",
            "INFO:tensorflow:Done running local_init_op.\n",
            "INFO:tensorflow:Calling checkpoint listeners before saving checkpoint 0...\n",
            "INFO:tensorflow:Saving checkpoints for 0 into /tmp/tmpctrghf0z/model.ckpt.\n",
            "INFO:tensorflow:Calling checkpoint listeners after saving checkpoint 0...\n",
            "INFO:tensorflow:Calling checkpoint listeners before saving checkpoint 1...\n",
            "INFO:tensorflow:Saving checkpoints for 1 into /tmp/tmpctrghf0z/model.ckpt.\n",
            "INFO:tensorflow:Calling checkpoint listeners after saving checkpoint 1...\n",
            "INFO:tensorflow:Loss for final step: None.\n",
            "INFO:tensorflow:Calling model_fn.\n",
            "INFO:tensorflow:Done calling model_fn.\n",
            "INFO:tensorflow:Create CheckpointSaverHook.\n",
            "INFO:tensorflow:Graph was finalized.\n",
            "INFO:tensorflow:Restoring parameters from /tmp/tmpctrghf0z/model.ckpt-1\n",
            "INFO:tensorflow:Running local_init_op.\n",
            "INFO:tensorflow:Done running local_init_op.\n",
            "INFO:tensorflow:Calling checkpoint listeners before saving checkpoint 1...\n",
            "INFO:tensorflow:Saving checkpoints for 1 into /tmp/tmpctrghf0z/model.ckpt.\n",
            "INFO:tensorflow:Calling checkpoint listeners after saving checkpoint 1...\n",
            "INFO:tensorflow:loss = 14001.631, step = 1\n",
            "INFO:tensorflow:Calling checkpoint listeners before saving checkpoint 3...\n",
            "INFO:tensorflow:Saving checkpoints for 3 into /tmp/tmpctrghf0z/model.ckpt.\n",
            "INFO:tensorflow:Calling checkpoint listeners after saving checkpoint 3...\n",
            "INFO:tensorflow:Loss for final step: 14001.631.\n",
            "INFO:tensorflow:Calling model_fn.\n",
            "INFO:tensorflow:Done calling model_fn.\n",
            "INFO:tensorflow:Create CheckpointSaverHook.\n",
            "INFO:tensorflow:Graph was finalized.\n",
            "INFO:tensorflow:Restoring parameters from /tmp/tmpctrghf0z/model.ckpt-3\n",
            "INFO:tensorflow:Running local_init_op.\n",
            "INFO:tensorflow:Done running local_init_op.\n",
            "INFO:tensorflow:Calling checkpoint listeners before saving checkpoint 3...\n",
            "INFO:tensorflow:Saving checkpoints for 3 into /tmp/tmpctrghf0z/model.ckpt.\n",
            "INFO:tensorflow:Calling checkpoint listeners after saving checkpoint 3...\n",
            "INFO:tensorflow:loss = 4330.112, step = 3\n",
            "INFO:tensorflow:Calling checkpoint listeners before saving checkpoint 5...\n",
            "INFO:tensorflow:Saving checkpoints for 5 into /tmp/tmpctrghf0z/model.ckpt.\n",
            "INFO:tensorflow:Calling checkpoint listeners after saving checkpoint 5...\n",
            "INFO:tensorflow:Loss for final step: 4330.112.\n",
            "INFO:tensorflow:Calling model_fn.\n",
            "INFO:tensorflow:Done calling model_fn.\n",
            "INFO:tensorflow:Create CheckpointSaverHook.\n",
            "INFO:tensorflow:Graph was finalized.\n",
            "INFO:tensorflow:Restoring parameters from /tmp/tmpctrghf0z/model.ckpt-5\n",
            "INFO:tensorflow:Running local_init_op.\n",
            "INFO:tensorflow:Done running local_init_op.\n",
            "INFO:tensorflow:Calling checkpoint listeners before saving checkpoint 5...\n",
            "INFO:tensorflow:Saving checkpoints for 5 into /tmp/tmpctrghf0z/model.ckpt.\n",
            "INFO:tensorflow:Calling checkpoint listeners after saving checkpoint 5...\n",
            "INFO:tensorflow:loss = 3415.344, step = 5\n",
            "INFO:tensorflow:Calling checkpoint listeners before saving checkpoint 7...\n",
            "INFO:tensorflow:Saving checkpoints for 7 into /tmp/tmpctrghf0z/model.ckpt.\n",
            "INFO:tensorflow:Calling checkpoint listeners after saving checkpoint 7...\n",
            "INFO:tensorflow:Loss for final step: 3415.344.\n",
            "INFO:tensorflow:Calling model_fn.\n",
            "INFO:tensorflow:Done calling model_fn.\n",
            "INFO:tensorflow:Create CheckpointSaverHook.\n",
            "INFO:tensorflow:Graph was finalized.\n",
            "INFO:tensorflow:Restoring parameters from /tmp/tmpctrghf0z/model.ckpt-7\n",
            "INFO:tensorflow:Running local_init_op.\n",
            "INFO:tensorflow:Done running local_init_op.\n",
            "INFO:tensorflow:Calling checkpoint listeners before saving checkpoint 7...\n",
            "INFO:tensorflow:Saving checkpoints for 7 into /tmp/tmpctrghf0z/model.ckpt.\n",
            "INFO:tensorflow:Calling checkpoint listeners after saving checkpoint 7...\n",
            "INFO:tensorflow:loss = 2600.254, step = 7\n",
            "INFO:tensorflow:Calling checkpoint listeners before saving checkpoint 9...\n",
            "INFO:tensorflow:Saving checkpoints for 9 into /tmp/tmpctrghf0z/model.ckpt.\n",
            "INFO:tensorflow:Calling checkpoint listeners after saving checkpoint 9...\n",
            "INFO:tensorflow:Loss for final step: 2600.254.\n",
            "INFO:tensorflow:Calling model_fn.\n",
            "INFO:tensorflow:Done calling model_fn.\n",
            "INFO:tensorflow:Create CheckpointSaverHook.\n",
            "INFO:tensorflow:Graph was finalized.\n",
            "INFO:tensorflow:Restoring parameters from /tmp/tmpctrghf0z/model.ckpt-9\n",
            "INFO:tensorflow:Running local_init_op.\n",
            "INFO:tensorflow:Done running local_init_op.\n",
            "INFO:tensorflow:Calling checkpoint listeners before saving checkpoint 9...\n",
            "INFO:tensorflow:Saving checkpoints for 9 into /tmp/tmpctrghf0z/model.ckpt.\n",
            "INFO:tensorflow:Calling checkpoint listeners after saving checkpoint 9...\n",
            "INFO:tensorflow:loss = 2008.9038, step = 9\n",
            "INFO:tensorflow:Calling checkpoint listeners before saving checkpoint 11...\n",
            "INFO:tensorflow:Saving checkpoints for 11 into /tmp/tmpctrghf0z/model.ckpt.\n",
            "INFO:tensorflow:Calling checkpoint listeners after saving checkpoint 11...\n",
            "INFO:tensorflow:Loss for final step: 2008.9038.\n",
            "INFO:tensorflow:Calling model_fn.\n",
            "INFO:tensorflow:Done calling model_fn.\n",
            "INFO:tensorflow:Create CheckpointSaverHook.\n",
            "INFO:tensorflow:Graph was finalized.\n",
            "INFO:tensorflow:Restoring parameters from /tmp/tmpctrghf0z/model.ckpt-11\n",
            "INFO:tensorflow:Running local_init_op.\n",
            "INFO:tensorflow:Done running local_init_op.\n",
            "INFO:tensorflow:Calling checkpoint listeners before saving checkpoint 11...\n",
            "INFO:tensorflow:Saving checkpoints for 11 into /tmp/tmpctrghf0z/model.ckpt.\n",
            "INFO:tensorflow:Calling checkpoint listeners after saving checkpoint 11...\n",
            "INFO:tensorflow:loss = 1866.7112, step = 11\n",
            "INFO:tensorflow:Calling checkpoint listeners before saving checkpoint 13...\n",
            "INFO:tensorflow:Saving checkpoints for 13 into /tmp/tmpctrghf0z/model.ckpt.\n",
            "INFO:tensorflow:Calling checkpoint listeners after saving checkpoint 13...\n",
            "INFO:tensorflow:Loss for final step: 1866.7112.\n",
            "INFO:tensorflow:Calling model_fn.\n",
            "INFO:tensorflow:Done calling model_fn.\n",
            "INFO:tensorflow:Create CheckpointSaverHook.\n",
            "INFO:tensorflow:Graph was finalized.\n",
            "INFO:tensorflow:Restoring parameters from /tmp/tmpctrghf0z/model.ckpt-13\n",
            "INFO:tensorflow:Running local_init_op.\n",
            "INFO:tensorflow:Done running local_init_op.\n",
            "INFO:tensorflow:Calling checkpoint listeners before saving checkpoint 13...\n",
            "INFO:tensorflow:Saving checkpoints for 13 into /tmp/tmpctrghf0z/model.ckpt.\n",
            "INFO:tensorflow:Calling checkpoint listeners after saving checkpoint 13...\n",
            "INFO:tensorflow:loss = 1818.1968, step = 13\n",
            "INFO:tensorflow:Calling checkpoint listeners before saving checkpoint 15...\n",
            "INFO:tensorflow:Saving checkpoints for 15 into /tmp/tmpctrghf0z/model.ckpt.\n",
            "INFO:tensorflow:Calling checkpoint listeners after saving checkpoint 15...\n",
            "INFO:tensorflow:Loss for final step: 1818.1968.\n",
            "INFO:tensorflow:Calling model_fn.\n",
            "INFO:tensorflow:Done calling model_fn.\n",
            "INFO:tensorflow:Create CheckpointSaverHook.\n",
            "INFO:tensorflow:Graph was finalized.\n",
            "INFO:tensorflow:Restoring parameters from /tmp/tmpctrghf0z/model.ckpt-15\n",
            "INFO:tensorflow:Running local_init_op.\n",
            "INFO:tensorflow:Done running local_init_op.\n",
            "INFO:tensorflow:Calling checkpoint listeners before saving checkpoint 15...\n",
            "INFO:tensorflow:Saving checkpoints for 15 into /tmp/tmpctrghf0z/model.ckpt.\n",
            "INFO:tensorflow:Calling checkpoint listeners after saving checkpoint 15...\n",
            "INFO:tensorflow:loss = 1768.4744, step = 15\n",
            "INFO:tensorflow:Calling checkpoint listeners before saving checkpoint 17...\n",
            "INFO:tensorflow:Saving checkpoints for 17 into /tmp/tmpctrghf0z/model.ckpt.\n",
            "INFO:tensorflow:Calling checkpoint listeners after saving checkpoint 17...\n",
            "INFO:tensorflow:Loss for final step: 1768.4744.\n",
            "INFO:tensorflow:Calling model_fn.\n",
            "INFO:tensorflow:Done calling model_fn.\n",
            "INFO:tensorflow:Create CheckpointSaverHook.\n",
            "INFO:tensorflow:Graph was finalized.\n",
            "INFO:tensorflow:Restoring parameters from /tmp/tmpctrghf0z/model.ckpt-17\n",
            "INFO:tensorflow:Running local_init_op.\n",
            "INFO:tensorflow:Done running local_init_op.\n",
            "INFO:tensorflow:Calling checkpoint listeners before saving checkpoint 17...\n",
            "INFO:tensorflow:Saving checkpoints for 17 into /tmp/tmpctrghf0z/model.ckpt.\n",
            "INFO:tensorflow:Calling checkpoint listeners after saving checkpoint 17...\n",
            "INFO:tensorflow:loss = 1761.4207, step = 17\n",
            "INFO:tensorflow:Calling checkpoint listeners before saving checkpoint 19...\n",
            "INFO:tensorflow:Saving checkpoints for 19 into /tmp/tmpctrghf0z/model.ckpt.\n",
            "INFO:tensorflow:Calling checkpoint listeners after saving checkpoint 19...\n",
            "INFO:tensorflow:Loss for final step: 1761.4207.\n",
            "WARNING:tensorflow:Input graph does not use tf.data.Dataset or contain a QueueRunner. That means predict yields forever. This is probably a mistake.\n",
            "INFO:tensorflow:Calling model_fn.\n",
            "INFO:tensorflow:Done calling model_fn.\n",
            "INFO:tensorflow:Graph was finalized.\n",
            "INFO:tensorflow:Restoring parameters from /tmp/tmpctrghf0z/model.ckpt-19\n",
            "INFO:tensorflow:Running local_init_op.\n",
            "INFO:tensorflow:Done running local_init_op.\n"
          ]
        },
        {
          "output_type": "stream",
          "name": "stderr",
          "text": [
            "/usr/local/lib/python3.7/dist-packages/seaborn/_decorators.py:43: FutureWarning: Pass the following variables as keyword args: x, y. From version 0.12, the only valid positional argument will be `data`, and passing other arguments without an explicit keyword will result in an error or misinterpretation.\n",
            "  FutureWarning\n"
          ]
        },
        {
          "output_type": "display_data",
          "data": {
            "image/png": "[encoded data removed]",
            "text/plain": [
              "<Figure size 474.375x432 with 1 Axes>"
            ]
          },
          "metadata": {
            "needs_background": "light"
          }
        }
      ]
    }
  ]
}